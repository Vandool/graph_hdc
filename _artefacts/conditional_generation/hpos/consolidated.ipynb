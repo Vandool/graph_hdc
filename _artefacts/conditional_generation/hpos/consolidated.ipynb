{
 "cells": [
  {
   "cell_type": "code",
   "id": "initial_id",
   "metadata": {
    "collapsed": true,
    "ExecuteTime": {
     "end_time": "2025-10-04T07:40:58.941566Z",
     "start_time": "2025-10-04T07:40:58.362064Z"
    }
   },
   "source": [
    "from pathlib import Path\n",
    "import pandas as pd\n",
    "\n",
    "df = pd.concat(map(pd.read_csv,Path(\"/home/akaveh/Projects/kit/graph_hdc/_artefacts/conditional_generation/hpos\").glob(\"*.csv\")), ignore_index=True)\n",
    "\n",
    "df.to_csv(\"hpos.csv\", index=False)"
   ],
   "outputs": [],
   "execution_count": 1
  }
 ],
 "metadata": {
  "kernelspec": {
   "display_name": "Python 3",
   "language": "python",
   "name": "python3"
  },
  "language_info": {
   "codemirror_mode": {
    "name": "ipython",
    "version": 2
   },
   "file_extension": ".py",
   "mimetype": "text/x-python",
   "name": "python",
   "nbconvert_exporter": "python",
   "pygments_lexer": "ipython2",
   "version": "2.7.6"
  }
 },
 "nbformat": 4,
 "nbformat_minor": 5
}
