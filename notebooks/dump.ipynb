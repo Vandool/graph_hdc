{
 "cells": [
  {
   "metadata": {
    "ExecuteTime": {
     "end_time": "2025-10-14T15:59:08.389506Z",
     "start_time": "2025-10-14T15:59:08.384124Z"
    }
   },
   "cell_type": "code",
   "source": [
    "import torchhd\n",
    "import torch\n",
    "\n",
    "def euclidean(x: torch.Tensor, y: torch.Tensor) -> torch.Tensor:\n",
    "    \"\"\"Compute pairwise Euclidean distance between hypervectors.\"\"\"\n",
    "    return torch.cdist(x.unsqueeze(0), y.unsqueeze(0)).squeeze(0)\n",
    "\n",
    "def euclid(x, y):\n",
    "    \"\"\"Drop-in replacement for torchhd.cos, returns negative Euclidean distance.\"\"\"\n",
    "    return -torch.cdist(x, y)\n",
    "\n",
    "a = torchhd.random(1, 10000)  # 10 hypervectors\n",
    "b = torchhd.random(5, 10000)   # 5 hypervectors\n",
    "\n",
    "# Cosine similarity (built-in)\n",
    "sim = torchhd.cos(a, b)\n",
    "print(sim.tolist())\n",
    "# Euclidean distance (custom)\n",
    "dist = euclidean(a, b)\n",
    "print(dist.tolist())\n",
    "\n",
    "sim_e = euclid(a, b)\n",
    "print(sim_e.tolist())"
   ],
   "id": "144227c0201b1d1f",
   "outputs": [
    {
     "name": "stdout",
     "output_type": "stream",
     "text": [
      "[[-0.015399999916553497, 0.009399999864399433, 0.004399999976158142, 0.006800000090152025, -0.0031999999191612005]]\n",
      "[[142.50613403320312, 140.75511169433594, 141.10989379882812, 140.939697265625, 141.64744567871094]]\n",
      "[[0.007017241790890694, 0.007104537915438414, 0.007086675148457289, 0.00709523307159543, 0.007059781346470118]]\n"
     ]
    }
   ],
   "execution_count": 4
  },
  {
   "metadata": {
    "ExecuteTime": {
     "end_time": "2025-08-30T17:19:00.473929Z",
     "start_time": "2025-08-30T17:18:56.293918Z"
    }
   },
   "cell_type": "code",
   "source": [
    "import random\n",
    "\n",
    "import torch\n",
    "from gitdb.fun import chunk_size\n",
    "\n",
    "from src.encoding.configs_and_constants import ZINC_SMILES_HRR_7744_CONFIG\n",
    "from src.encoding.graph_encoders import load_or_create_hypernet, HyperNet\n",
    "from src.utils.utils import GLOBAL_MODEL_PATH\n",
    "\n",
    "cfg = ZINC_SMILES_HRR_7744_CONFIG\n",
    "\n",
    "e1 = load_or_create_hypernet(path=GLOBAL_MODEL_PATH, cfg=cfg, depth=3, use_edge_codebook=False)\n",
    "e1.populate_codebooks()"
   ],
   "id": "8c0e7ebe28646e9b",
   "outputs": [
    {
     "name": "stdout",
     "output_type": "stream",
     "text": [
      "Loading existing HyperNet from /Users/arvandkaveh/Projects/kit/graph_hdc/_models/hypernet_ZincSmilesHRR7744_HRR_dim7744_s42_depth3_ecb0.pt\n"
     ]
    }
   ],
   "execution_count": 1
  },
  {
   "metadata": {
    "ExecuteTime": {
     "end_time": "2025-10-03T10:34:47.858944Z",
     "start_time": "2025-10-03T10:34:47.805191Z"
    }
   },
   "cell_type": "code",
   "source": [
    "import numpy as np\n",
    "arr = np.load(\"/home/akaveh/Projects/kit/graph_hdc/_artefacts/cond_generation/qm9_nvp_qm9_h1600_f12_hid1024_s42_lr5e-4_wd0.0_an_SIMPLE_VOTER/0.305.npy\")\n",
    "print(len(arr))"
   ],
   "id": "2c5e236e6b70f985",
   "outputs": [
    {
     "name": "stdout",
     "output_type": "stream",
     "text": [
      "4\n"
     ]
    }
   ],
   "execution_count": 1
  },
  {
   "metadata": {
    "ExecuteTime": {
     "end_time": "2025-08-30T17:19:00.541678Z",
     "start_time": "2025-08-30T17:19:00.479176Z"
    }
   },
   "cell_type": "code",
   "source": "e2 = load_or_create_hypernet(path=GLOBAL_MODEL_PATH, cfg=cfg, depth=3, use_edge_codebook=False)",
   "id": "857fc06d3cd4b852",
   "outputs": [
    {
     "name": "stdout",
     "output_type": "stream",
     "text": [
      "Loading existing HyperNet from /Users/arvandkaveh/Projects/kit/graph_hdc/_models/hypernet_ZincSmilesHRR7744_HRR_dim7744_s42_depth3_ecb0.pt\n"
     ]
    }
   ],
   "execution_count": 2
  },
  {
   "metadata": {
    "ExecuteTime": {
     "end_time": "2025-08-30T17:19:00.560341Z",
     "start_time": "2025-08-30T17:19:00.554893Z"
    }
   },
   "cell_type": "code",
   "source": [
    "from src.encoding.configs_and_constants import Features\n",
    "import torch\n",
    "\n",
    "node_cb1 = e1.node_encoder_map[Features.ATOM_TYPE][0].codebook\n",
    "node_cb2 = e2.node_encoder_map[Features.ATOM_TYPE][0].codebook\n",
    "\n",
    "\n",
    "\n",
    "assert torch.equal(e1.node_encoder_map[Features.ATOM_TYPE][0].codebook, e2.node_encoder_map[Features.ATOM_TYPE][0].codebook)\n",
    "\n",
    "assert torch.equal(e1.nodes_codebook, e2.nodes_codebook)\n",
    "assert torch.equal(e1.nodes_codebook, e2.node_encoder_map[Features.ATOM_TYPE][0].codebook)\n"
   ],
   "id": "13d17607a79e7fca",
   "outputs": [],
   "execution_count": 3
  },
  {
   "metadata": {
    "ExecuteTime": {
     "end_time": "2025-08-31T08:33:19.907128Z",
     "start_time": "2025-08-31T08:33:19.902245Z"
    }
   },
   "cell_type": "code",
   "source": [
    "from src.datasets.zinc_smiles_generation import ZincSmiles\n",
    "\n",
    "for s in ['valid', 'test', 'train']:\n",
    "    ds = ZincSmiles(split=s, enc_suffix=\"HRR7744\")\n",
    "    # HRRTensor([ 0.0589,  0.2546,  0.0979,  ..., -0.0511,  0.0170, -0.0878])\n",
    "    node = ds.node_terms\n",
    "    graph = ds.graph_terms\n",
    "\n",
    "    def fmt_stats(t):\n",
    "        return (\n",
    "            f\"- min: {t.min().item():+.4f}  max: {t.max().item():+.4f}  mean: {t.mean().item():+.4f} Median: {t.median().item():+.4f}\\n\"\n",
    "        )\n",
    "\n",
    "\n",
    "    print(\n",
    "        f\"---------{s}----------\"\n",
    "        f\"ZincSmiles({s}, enc_suffix='HRR7744')\\n\"\n",
    "        \".. rubric:: Encoded tensor statistics\\n\\n\"\n",
    "        \"**Node terms**\\n\"\n",
    "        f\"{fmt_stats(node)}\"\n",
    "        \"**Graph terms**\\n\"\n",
    "        f\"{fmt_stats(graph)}\"\n",
    ")"
   ],
   "id": "392d27c2fc6117d4",
   "outputs": [
    {
     "ename": "SyntaxError",
     "evalue": "Invalid star expression (623273207.py, line 8)",
     "output_type": "error",
     "traceback": [
      "  \u001B[36mCell\u001B[39m\u001B[36m \u001B[39m\u001B[32mIn[6]\u001B[39m\u001B[32m, line 8\u001B[39m\n\u001B[31m    \u001B[39m\u001B[31mnode = ds.node_terms.view(*, 7744)\u001B[39m\n                               ^\n\u001B[31mSyntaxError\u001B[39m\u001B[31m:\u001B[39m Invalid star expression\n"
     ]
    }
   ],
   "execution_count": 6
  },
  {
   "metadata": {
    "ExecuteTime": {
     "end_time": "2025-08-31T08:49:50.668424Z",
     "start_time": "2025-08-31T08:49:28.961123Z"
    }
   },
   "cell_type": "code",
   "source": "",
   "id": "62e9c7ae55d4e3a5",
   "outputs": [
    {
     "name": "stdout",
     "output_type": "stream",
     "text": [
      "--------- valid ----------\n",
      "ZincSmiles('valid', enc_suffix='HRR7744')\n",
      "N = 24,445, node shape = (24445, 7744), graph shape = (24445, 7744)\n",
      ".. rubric:: Encoded tensor statistics\n",
      "\n"
     ]
    },
    {
     "ename": "RuntimeError",
     "evalue": "quantile() input tensor is too large",
     "output_type": "error",
     "traceback": [
      "\u001B[31m---------------------------------------------------------------------------\u001B[39m",
      "\u001B[31mRuntimeError\u001B[39m                              Traceback (most recent call last)",
      "\u001B[36mCell\u001B[39m\u001B[36m \u001B[39m\u001B[32mIn[10]\u001B[39m\u001B[32m, line 60\u001B[39m\n\u001B[32m     57\u001B[39m         \u001B[38;5;28mprint\u001B[39m(\u001B[33mf\u001B[39m\u001B[33m\"\u001B[39m\u001B[33m    bpd = nll / (2*\u001B[39m\u001B[38;5;132;01m{\u001B[39;00mhv_dim\u001B[38;5;132;01m}\u001B[39;00m\u001B[33m * math.log(2))\u001B[39m\u001B[33m\"\u001B[39m)\n\u001B[32m     58\u001B[39m         \u001B[38;5;28mprint\u001B[39m()\n\u001B[32m---> \u001B[39m\u001B[32m60\u001B[39m \u001B[43mprint_zinc_hrr_stats\u001B[49m\u001B[43m(\u001B[49m\u001B[43m)\u001B[49m\n",
      "\u001B[36mCell\u001B[39m\u001B[36m \u001B[39m\u001B[32mIn[10]\u001B[39m\u001B[32m, line 45\u001B[39m, in \u001B[36mprint_zinc_hrr_stats\u001B[39m\u001B[34m(splits, hv_dim)\u001B[39m\n\u001B[32m     43\u001B[39m \u001B[38;5;28mprint\u001B[39m(\u001B[33mf\u001B[39m\u001B[33m\"\u001B[39m\u001B[33mN = \u001B[39m\u001B[38;5;132;01m{\u001B[39;00mN\u001B[38;5;132;01m:\u001B[39;00m\u001B[33m,\u001B[39m\u001B[38;5;132;01m}\u001B[39;00m\u001B[33m, node shape = \u001B[39m\u001B[38;5;132;01m{\u001B[39;00m\u001B[38;5;28mtuple\u001B[39m(node.shape)\u001B[38;5;132;01m}\u001B[39;00m\u001B[33m, graph shape = \u001B[39m\u001B[38;5;132;01m{\u001B[39;00m\u001B[38;5;28mtuple\u001B[39m(graph.shape)\u001B[38;5;132;01m}\u001B[39;00m\u001B[33m\"\u001B[39m)\n\u001B[32m     44\u001B[39m \u001B[38;5;28mprint\u001B[39m(\u001B[33m\"\u001B[39m\u001B[33m.. rubric:: Encoded tensor statistics\u001B[39m\u001B[38;5;130;01m\\n\u001B[39;00m\u001B[33m\"\u001B[39m)\n\u001B[32m---> \u001B[39m\u001B[32m45\u001B[39m \u001B[38;5;28mprint\u001B[39m(\u001B[43m_fmt_block_stats\u001B[49m\u001B[43m(\u001B[49m\u001B[43mnode_flat\u001B[49m\u001B[43m,\u001B[49m\u001B[43m  \u001B[49m\u001B[33;43m\"\u001B[39;49m\u001B[33;43mNode terms HRR 7744\u001B[39;49m\u001B[33;43m\"\u001B[39;49m\u001B[43m)\u001B[49m, end=\u001B[33m\"\u001B[39m\u001B[33m\"\u001B[39m)\n\u001B[32m     46\u001B[39m \u001B[38;5;28mprint\u001B[39m(_fmt_block_stats(graph_flat, \u001B[33m\"\u001B[39m\u001B[33mGraph terms HRR 7744\u001B[39m\u001B[33m\"\u001B[39m), end=\u001B[33m\"\u001B[39m\u001B[33m\"\u001B[39m)\n\u001B[32m     47\u001B[39m \u001B[38;5;28mprint\u001B[39m(\u001B[33m\"\u001B[39m\u001B[33m**Blockwise standardization constants**\u001B[39m\u001B[33m\"\u001B[39m)\n",
      "\u001B[36mCell\u001B[39m\u001B[36m \u001B[39m\u001B[32mIn[10]\u001B[39m\u001B[32m, line 7\u001B[39m, in \u001B[36m_fmt_block_stats\u001B[39m\u001B[34m(flat_1d, label)\u001B[39m\n\u001B[32m      5\u001B[39m \u001B[38;5;250m\u001B[39m\u001B[33;03m\"\"\"flat_1d is 1D (all elements). Returns rST text.\"\"\"\u001B[39;00m\n\u001B[32m      6\u001B[39m flat_1d = flat_1d.to(torch.float32)\n\u001B[32m----> \u001B[39m\u001B[32m7\u001B[39m q01 = \u001B[43mflat_1d\u001B[49m\u001B[43m.\u001B[49m\u001B[43mquantile\u001B[49m\u001B[43m(\u001B[49m\u001B[32;43m0.01\u001B[39;49m\u001B[43m)\u001B[49m\n\u001B[32m      8\u001B[39m q99 = flat_1d.quantile(\u001B[32m0.99\u001B[39m)\n\u001B[32m      9\u001B[39m \u001B[38;5;28;01mreturn\u001B[39;00m (\n\u001B[32m     10\u001B[39m     \u001B[33mf\u001B[39m\u001B[33m\"\u001B[39m\u001B[33m**\u001B[39m\u001B[38;5;132;01m{\u001B[39;00mlabel\u001B[38;5;132;01m}\u001B[39;00m\u001B[33m**\u001B[39m\u001B[38;5;130;01m\\n\u001B[39;00m\u001B[33m\"\u001B[39m\n\u001B[32m     11\u001B[39m     \u001B[33mf\u001B[39m\u001B[33m\"\u001B[39m\u001B[33m- min: \u001B[39m\u001B[38;5;132;01m{\u001B[39;00mflat_1d.min().item()\u001B[38;5;132;01m:\u001B[39;00m\u001B[33m+.6f\u001B[39m\u001B[38;5;132;01m}\u001B[39;00m\u001B[33m  max: \u001B[39m\u001B[38;5;132;01m{\u001B[39;00mflat_1d.max().item()\u001B[38;5;132;01m:\u001B[39;00m\u001B[33m+.6f\u001B[39m\u001B[38;5;132;01m}\u001B[39;00m\u001B[38;5;130;01m\\n\u001B[39;00m\u001B[33m\"\u001B[39m\n\u001B[32m     12\u001B[39m     \u001B[33mf\u001B[39m\u001B[33m\"\u001B[39m\u001B[33m- mean: \u001B[39m\u001B[38;5;132;01m{\u001B[39;00mflat_1d.mean().item()\u001B[38;5;132;01m:\u001B[39;00m\u001B[33m+.6f\u001B[39m\u001B[38;5;132;01m}\u001B[39;00m\u001B[33m  median: \u001B[39m\u001B[38;5;132;01m{\u001B[39;00mflat_1d.median().item()\u001B[38;5;132;01m:\u001B[39;00m\u001B[33m+.6f\u001B[39m\u001B[38;5;132;01m}\u001B[39;00m\u001B[38;5;130;01m\\n\u001B[39;00m\u001B[33m\"\u001B[39m\n\u001B[32m     13\u001B[39m     \u001B[33mf\u001B[39m\u001B[33m\"\u001B[39m\u001B[33m- std: \u001B[39m\u001B[38;5;132;01m{\u001B[39;00mflat_1d.std(unbiased=\u001B[38;5;28;01mFalse\u001B[39;00m).item()\u001B[38;5;132;01m:\u001B[39;00m\u001B[33m.6f\u001B[39m\u001B[38;5;132;01m}\u001B[39;00m\u001B[33m  p01/p99: \u001B[39m\u001B[38;5;132;01m{\u001B[39;00mq01.item()\u001B[38;5;132;01m:\u001B[39;00m\u001B[33m+.6f\u001B[39m\u001B[38;5;132;01m}\u001B[39;00m\u001B[33m / \u001B[39m\u001B[38;5;132;01m{\u001B[39;00mq99.item()\u001B[38;5;132;01m:\u001B[39;00m\u001B[33m+.6f\u001B[39m\u001B[38;5;132;01m}\u001B[39;00m\u001B[38;5;130;01m\\n\u001B[39;00m\u001B[33m\"\u001B[39m\n\u001B[32m     14\u001B[39m )\n",
      "\u001B[36mFile \u001B[39m\u001B[32m~/Projects/kit/graph_hdc/.pixi/envs/default/lib/python3.13/site-packages/torch/_tensor.py:1648\u001B[39m, in \u001B[36mTensor.__torch_function__\u001B[39m\u001B[34m(cls, func, types, args, kwargs)\u001B[39m\n\u001B[32m   1645\u001B[39m     \u001B[38;5;28;01mreturn\u001B[39;00m \u001B[38;5;28mNotImplemented\u001B[39m\n\u001B[32m   1647\u001B[39m \u001B[38;5;28;01mwith\u001B[39;00m _C.DisableTorchFunctionSubclass():\n\u001B[32m-> \u001B[39m\u001B[32m1648\u001B[39m     ret = \u001B[43mfunc\u001B[49m\u001B[43m(\u001B[49m\u001B[43m*\u001B[49m\u001B[43margs\u001B[49m\u001B[43m,\u001B[49m\u001B[43m \u001B[49m\u001B[43m*\u001B[49m\u001B[43m*\u001B[49m\u001B[43mkwargs\u001B[49m\u001B[43m)\u001B[49m\n\u001B[32m   1649\u001B[39m     \u001B[38;5;28;01mif\u001B[39;00m func \u001B[38;5;129;01min\u001B[39;00m get_default_nowrap_functions():\n\u001B[32m   1650\u001B[39m         \u001B[38;5;28;01mreturn\u001B[39;00m ret\n",
      "\u001B[31mRuntimeError\u001B[39m: quantile() input tensor is too large"
     ]
    }
   ],
   "execution_count": 10
  },
  {
   "metadata": {
    "ExecuteTime": {
     "end_time": "2025-10-06T15:37:57.389674Z",
     "start_time": "2025-10-06T15:37:57.386138Z"
    }
   },
   "cell_type": "code",
   "source": [
    "from collections import defaultdict\n",
    "import random\n",
    "import numpy as np\n",
    "\n",
    "a = random.sample(range(100), k=20)\n",
    "# assert len(a) == len(set(a))\n",
    "#\n",
    "# chunk_size = 20\n",
    "# n_chunks = 5\n",
    "#\n",
    "# chunks = defaultdict(list)\n",
    "# for i in a:\n",
    "#     chunk_number = i // chunk_size\n",
    "#     chunks[chunk_number].append(i)\n",
    "#\n",
    "# for l in chunks.values():\n",
    "#     random.shuffle(l)\n",
    "#\n",
    "# final = []\n",
    "# for l in range(n_chunks):\n",
    "#     final.extend(chunks[l])\n",
    "\n",
    "a = np.array(a, dtype=np.int32)\n",
    "chunk_id = a // chunk_size\n",
    "keys = chunk_id + np.random.random(a.size)\n",
    "order = np.argsort(keys)\n",
    "final = a[order]\n"
   ],
   "id": "851dd8184c046df7",
   "outputs": [],
   "execution_count": 31
  }
 ],
 "metadata": {
  "kernelspec": {
   "display_name": "default",
   "language": "python",
   "name": "python3"
  },
  "language_info": {
   "codemirror_mode": {
    "name": "ipython",
    "version": 3
   },
   "file_extension": ".py",
   "mimetype": "text/x-python",
   "name": "python",
   "nbconvert_exporter": "python",
   "pygments_lexer": "ipython3",
   "version": "3.13.5"
  }
 },
 "nbformat": 4,
 "nbformat_minor": 5
}
