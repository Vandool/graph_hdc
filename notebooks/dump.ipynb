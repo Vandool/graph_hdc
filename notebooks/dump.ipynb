{
 "cells": [
  {
   "cell_type": "code",
   "execution_count": 8,
   "id": "initial_id",
   "metadata": {
    "ExecuteTime": {
     "end_time": "2025-05-16T16:06:25.477670Z",
     "start_time": "2025-05-16T16:06:25.474784Z"
    },
    "collapsed": true
   },
   "outputs": [],
   "source": [
    "from collections import Counter\n",
    "\n",
    "a = \"arvand\"\n",
    "b = \"arvana\"\n",
    "\n",
    "counter_a = Counter(a)\n",
    "counter_b = Counter(b)"
   ]
  },
  {
   "cell_type": "code",
   "execution_count": 9,
   "id": "efcb18451d53f675",
   "metadata": {
    "ExecuteTime": {
     "end_time": "2025-05-16T16:06:25.488216Z",
     "start_time": "2025-05-16T16:06:25.486484Z"
    }
   },
   "outputs": [
    {
     "name": "stdout",
     "output_type": "stream",
     "text": [
      "{'r', 'v', 'n', 'd', 'a'}\n"
     ]
    }
   ],
   "source": [
    "print(set(counter_a))"
   ]
  },
  {
   "cell_type": "code",
   "execution_count": 10,
   "id": "d7c7d18592c05519",
   "metadata": {
    "ExecuteTime": {
     "end_time": "2025-05-16T16:06:25.519769Z",
     "start_time": "2025-05-16T16:06:25.517432Z"
    }
   },
   "outputs": [
    {
     "data": {
      "text/plain": [
       "{'a', 'd', 'n', 'r', 'v'}"
      ]
     },
     "execution_count": 10,
     "metadata": {},
     "output_type": "execute_result"
    }
   ],
   "source": [
    "all = set(counter_a) | set(counter_b)\n",
    "all"
   ]
  },
  {
   "cell_type": "code",
   "execution_count": 11,
   "id": "bb30699825c6123e",
   "metadata": {
    "ExecuteTime": {
     "end_time": "2025-05-16T16:06:25.550799Z",
     "start_time": "2025-05-16T16:06:25.548792Z"
    }
   },
   "outputs": [
    {
     "data": {
      "text/plain": [
       "2"
      ]
     },
     "execution_count": 11,
     "metadata": {},
     "output_type": "execute_result"
    }
   ],
   "source": [
    "raw_diff = sum(abs(counter_a[l] - counter_b[l]) for l in all)\n",
    "raw_diff"
   ]
  },
  {
   "cell_type": "code",
   "execution_count": 12,
   "id": "4247c820130c95be",
   "metadata": {
    "ExecuteTime": {
     "end_time": "2025-05-16T16:06:25.577791Z",
     "start_time": "2025-05-16T16:06:25.575763Z"
    }
   },
   "outputs": [
    {
     "data": {
      "text/plain": [
       "0"
      ]
     },
     "execution_count": 12,
     "metadata": {},
     "output_type": "execute_result"
    }
   ],
   "source": [
    "n_diff = abs(len(a) - len(b))\n",
    "n_diff"
   ]
  },
  {
   "cell_type": "code",
   "execution_count": 13,
   "id": "29f0f46cacd6ab7a",
   "metadata": {
    "ExecuteTime": {
     "end_time": "2025-05-16T16:06:25.595449Z",
     "start_time": "2025-05-16T16:06:25.593197Z"
    }
   },
   "outputs": [
    {
     "data": {
      "text/plain": [
       "1"
      ]
     },
     "execution_count": 13,
     "metadata": {},
     "output_type": "execute_result"
    }
   ],
   "source": [
    "    # substitutions = the paired mismatches beyond size difference\n",
    "num_subs = (raw_diff - n_diff) // 2\n",
    "num_subs"
   ]
  },
  {
   "cell_type": "code",
   "execution_count": 14,
   "id": "cfc880912e57bcc0",
   "metadata": {
    "ExecuteTime": {
     "end_time": "2025-05-16T16:06:25.607084Z",
     "start_time": "2025-05-16T16:06:25.604996Z"
    }
   },
   "outputs": [
    {
     "data": {
      "text/plain": [
       "1"
      ]
     },
     "execution_count": 14,
     "metadata": {},
     "output_type": "execute_result"
    }
   ],
   "source": [
    "    # total node cost = substitutions + unmatched ins/dels\n",
    "delta_v = num_subs + n_diff\n",
    "delta_v"
   ]
  },
  {
   "cell_type": "code",
   "execution_count": 7,
   "id": "22fcce9f",
   "metadata": {},
   "outputs": [
    {
     "name": "stdout",
     "output_type": "stream",
     "text": [
      "/h/\n"
     ]
    }
   ],
   "source": [
    "a = eval(\"\\'/h/\\'\")\n",
    "print(a)"
   ]
  }
 ],
 "metadata": {
  "kernelspec": {
   "display_name": "default",
   "language": "python",
   "name": "python3"
  },
  "language_info": {
   "codemirror_mode": {
    "name": "ipython",
    "version": 3
   },
   "file_extension": ".py",
   "mimetype": "text/x-python",
   "name": "python",
   "nbconvert_exporter": "python",
   "pygments_lexer": "ipython3",
   "version": "3.13.5"
  }
 },
 "nbformat": 4,
 "nbformat_minor": 5
}
