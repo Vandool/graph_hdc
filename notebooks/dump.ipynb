{
 "cells": [
  {
   "metadata": {
    "ExecuteTime": {
     "end_time": "2025-08-30T09:11:36.202023Z",
     "start_time": "2025-08-30T09:11:36.151831Z"
    }
   },
   "cell_type": "code",
   "source": [
    "import torch\n",
    "\n",
    "from src.encoding.configs_and_constants import ZINC_SMILES_HRR_7744_CONFIG\n",
    "from src.encoding.graph_encoders import load_or_create_hypernet, HyperNet\n",
    "from src.utils.utils import GLOBAL_MODEL_PATH\n",
    "\n",
    "cfg = ZINC_SMILES_HRR_7744_CONFIG\n",
    "\n",
    "e1 = load_or_create_hypernet(path=GLOBAL_MODEL_PATH, cfg=cfg, depth=3, use_edge_codebook=False)\n",
    "e1.populate_codebooks()"
   ],
   "id": "8c0e7ebe28646e9b",
   "outputs": [
    {
     "name": "stdout",
     "output_type": "stream",
     "text": [
      "Loading existing HyperNet from /Users/arvandkaveh/Projects/kit/graph_hdc/_models/hypernet_ZincSmilesHRR7744_HRR_dim7744_s42_depth3_ecb0.pt\n"
     ]
    }
   ],
   "execution_count": 10
  },
  {
   "metadata": {
    "ExecuteTime": {
     "end_time": "2025-08-30T09:11:36.732580Z",
     "start_time": "2025-08-30T09:11:36.714085Z"
    }
   },
   "cell_type": "code",
   "source": "e2 = load_or_create_hypernet(path=GLOBAL_MODEL_PATH, cfg=cfg, depth=3, use_edge_codebook=False)",
   "id": "857fc06d3cd4b852",
   "outputs": [
    {
     "name": "stdout",
     "output_type": "stream",
     "text": [
      "Loading existing HyperNet from /Users/arvandkaveh/Projects/kit/graph_hdc/_models/hypernet_ZincSmilesHRR7744_HRR_dim7744_s42_depth3_ecb0.pt\n"
     ]
    }
   ],
   "execution_count": 11
  },
  {
   "metadata": {
    "ExecuteTime": {
     "end_time": "2025-08-30T09:11:37.201143Z",
     "start_time": "2025-08-30T09:11:37.191894Z"
    }
   },
   "cell_type": "code",
   "source": [
    "from src.encoding.configs_and_constants import Features\n",
    "import torch\n",
    "\n",
    "node_cb1 = e1.node_encoder_map[Features.ATOM_TYPE][0].codebook\n",
    "node_cb2 = e2.node_encoder_map[Features.ATOM_TYPE][0].codebook\n",
    "\n",
    "\n",
    "\n",
    "assert torch.equal(e1.node_encoder_map[Features.ATOM_TYPE][0].codebook, e2.node_encoder_map[Features.ATOM_TYPE][0].codebook)\n",
    "\n",
    "assert torch.equal(e1.nodes_codebook, e2.nodes_codebook)\n"
   ],
   "id": "13d17607a79e7fca",
   "outputs": [],
   "execution_count": 12
  },
  {
   "metadata": {},
   "cell_type": "code",
   "source": "",
   "id": "392d27c2fc6117d4",
   "outputs": [],
   "execution_count": null
  }
 ],
 "metadata": {
  "kernelspec": {
   "display_name": "default",
   "language": "python",
   "name": "python3"
  },
  "language_info": {
   "codemirror_mode": {
    "name": "ipython",
    "version": 3
   },
   "file_extension": ".py",
   "mimetype": "text/x-python",
   "name": "python",
   "nbconvert_exporter": "python",
   "pygments_lexer": "ipython3",
   "version": "3.13.5"
  }
 },
 "nbformat": 4,
 "nbformat_minor": 5
}
