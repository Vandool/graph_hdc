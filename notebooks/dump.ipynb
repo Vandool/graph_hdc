{
 "cells": [
  {
   "cell_type": "code",
   "id": "initial_id",
   "metadata": {
    "collapsed": true,
    "ExecuteTime": {
     "end_time": "2025-05-16T16:06:25.477670Z",
     "start_time": "2025-05-16T16:06:25.474784Z"
    }
   },
   "source": [
    "from collections import Counter\n",
    "\n",
    "a = \"arvand\"\n",
    "b = \"arvana\"\n",
    "\n",
    "counter_a = Counter(a)\n",
    "counter_b = Counter(b)"
   ],
   "outputs": [],
   "execution_count": 8
  },
  {
   "metadata": {
    "ExecuteTime": {
     "end_time": "2025-05-16T16:06:25.488216Z",
     "start_time": "2025-05-16T16:06:25.486484Z"
    }
   },
   "cell_type": "code",
   "source": "print(set(counter_a))",
   "id": "efcb18451d53f675",
   "outputs": [
    {
     "name": "stdout",
     "output_type": "stream",
     "text": [
      "{'r', 'v', 'n', 'd', 'a'}\n"
     ]
    }
   ],
   "execution_count": 9
  },
  {
   "metadata": {
    "ExecuteTime": {
     "end_time": "2025-05-16T16:06:25.519769Z",
     "start_time": "2025-05-16T16:06:25.517432Z"
    }
   },
   "cell_type": "code",
   "source": [
    "all = set(counter_a) | set(counter_b)\n",
    "all"
   ],
   "id": "d7c7d18592c05519",
   "outputs": [
    {
     "data": {
      "text/plain": [
       "{'a', 'd', 'n', 'r', 'v'}"
      ]
     },
     "execution_count": 10,
     "metadata": {},
     "output_type": "execute_result"
    }
   ],
   "execution_count": 10
  },
  {
   "metadata": {
    "ExecuteTime": {
     "end_time": "2025-05-16T16:06:25.550799Z",
     "start_time": "2025-05-16T16:06:25.548792Z"
    }
   },
   "cell_type": "code",
   "source": [
    "raw_diff = sum(abs(counter_a[l] - counter_b[l]) for l in all)\n",
    "raw_diff"
   ],
   "id": "bb30699825c6123e",
   "outputs": [
    {
     "data": {
      "text/plain": [
       "2"
      ]
     },
     "execution_count": 11,
     "metadata": {},
     "output_type": "execute_result"
    }
   ],
   "execution_count": 11
  },
  {
   "metadata": {
    "ExecuteTime": {
     "end_time": "2025-05-16T16:06:25.577791Z",
     "start_time": "2025-05-16T16:06:25.575763Z"
    }
   },
   "cell_type": "code",
   "source": [
    "n_diff = abs(len(a) - len(b))\n",
    "n_diff"
   ],
   "id": "4247c820130c95be",
   "outputs": [
    {
     "data": {
      "text/plain": [
       "0"
      ]
     },
     "execution_count": 12,
     "metadata": {},
     "output_type": "execute_result"
    }
   ],
   "execution_count": 12
  },
  {
   "metadata": {
    "ExecuteTime": {
     "end_time": "2025-05-16T16:06:25.595449Z",
     "start_time": "2025-05-16T16:06:25.593197Z"
    }
   },
   "cell_type": "code",
   "source": [
    "    # substitutions = the paired mismatches beyond size difference\n",
    "num_subs = (raw_diff - n_diff) // 2\n",
    "num_subs"
   ],
   "id": "29f0f46cacd6ab7a",
   "outputs": [
    {
     "data": {
      "text/plain": [
       "1"
      ]
     },
     "execution_count": 13,
     "metadata": {},
     "output_type": "execute_result"
    }
   ],
   "execution_count": 13
  },
  {
   "metadata": {
    "ExecuteTime": {
     "end_time": "2025-05-16T16:06:25.607084Z",
     "start_time": "2025-05-16T16:06:25.604996Z"
    }
   },
   "cell_type": "code",
   "source": [
    "    # total node cost = substitutions + unmatched ins/dels\n",
    "delta_v = num_subs + n_diff\n",
    "delta_v"
   ],
   "id": "cfc880912e57bcc0",
   "outputs": [
    {
     "data": {
      "text/plain": [
       "1"
      ]
     },
     "execution_count": 14,
     "metadata": {},
     "output_type": "execute_result"
    }
   ],
   "execution_count": 14
  }
 ],
 "metadata": {
  "kernelspec": {
   "display_name": "Python 3",
   "language": "python",
   "name": "python3"
  },
  "language_info": {
   "codemirror_mode": {
    "name": "ipython",
    "version": 2
   },
   "file_extension": ".py",
   "mimetype": "text/x-python",
   "name": "python",
   "nbconvert_exporter": "python",
   "pygments_lexer": "ipython2",
   "version": "2.7.6"
  }
 },
 "nbformat": 4,
 "nbformat_minor": 5
}
