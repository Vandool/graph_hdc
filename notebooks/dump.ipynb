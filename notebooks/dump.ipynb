{
 "cells": [
  {
   "metadata": {
    "ExecuteTime": {
     "end_time": "2025-08-30T17:19:00.473929Z",
     "start_time": "2025-08-30T17:18:56.293918Z"
    }
   },
   "cell_type": "code",
   "source": [
    "import torch\n",
    "\n",
    "from src.encoding.configs_and_constants import ZINC_SMILES_HRR_7744_CONFIG\n",
    "from src.encoding.graph_encoders import load_or_create_hypernet, HyperNet\n",
    "from src.utils.utils import GLOBAL_MODEL_PATH\n",
    "\n",
    "cfg = ZINC_SMILES_HRR_7744_CONFIG\n",
    "\n",
    "e1 = load_or_create_hypernet(path=GLOBAL_MODEL_PATH, cfg=cfg, depth=3, use_edge_codebook=False)\n",
    "e1.populate_codebooks()"
   ],
   "id": "8c0e7ebe28646e9b",
   "outputs": [
    {
     "name": "stdout",
     "output_type": "stream",
     "text": [
      "Loading existing HyperNet from /Users/arvandkaveh/Projects/kit/graph_hdc/_models/hypernet_ZincSmilesHRR7744_HRR_dim7744_s42_depth3_ecb0.pt\n"
     ]
    }
   ],
   "execution_count": 1
  },
  {
   "metadata": {
    "ExecuteTime": {
     "end_time": "2025-08-30T17:19:00.541678Z",
     "start_time": "2025-08-30T17:19:00.479176Z"
    }
   },
   "cell_type": "code",
   "source": "e2 = load_or_create_hypernet(path=GLOBAL_MODEL_PATH, cfg=cfg, depth=3, use_edge_codebook=False)",
   "id": "857fc06d3cd4b852",
   "outputs": [
    {
     "name": "stdout",
     "output_type": "stream",
     "text": [
      "Loading existing HyperNet from /Users/arvandkaveh/Projects/kit/graph_hdc/_models/hypernet_ZincSmilesHRR7744_HRR_dim7744_s42_depth3_ecb0.pt\n"
     ]
    }
   ],
   "execution_count": 2
  },
  {
   "metadata": {
    "ExecuteTime": {
     "end_time": "2025-08-30T17:19:00.560341Z",
     "start_time": "2025-08-30T17:19:00.554893Z"
    }
   },
   "cell_type": "code",
   "source": [
    "from src.encoding.configs_and_constants import Features\n",
    "import torch\n",
    "\n",
    "node_cb1 = e1.node_encoder_map[Features.ATOM_TYPE][0].codebook\n",
    "node_cb2 = e2.node_encoder_map[Features.ATOM_TYPE][0].codebook\n",
    "\n",
    "\n",
    "\n",
    "assert torch.equal(e1.node_encoder_map[Features.ATOM_TYPE][0].codebook, e2.node_encoder_map[Features.ATOM_TYPE][0].codebook)\n",
    "\n",
    "assert torch.equal(e1.nodes_codebook, e2.nodes_codebook)\n",
    "assert torch.equal(e1.nodes_codebook, e2.node_encoder_map[Features.ATOM_TYPE][0].codebook)\n"
   ],
   "id": "13d17607a79e7fca",
   "outputs": [],
   "execution_count": 3
  },
  {
   "metadata": {
    "ExecuteTime": {
     "end_time": "2025-08-31T07:40:54.858725Z",
     "start_time": "2025-08-31T07:40:17.607410Z"
    }
   },
   "cell_type": "code",
   "source": [
    "from src.datasets.zinc_smiles_generation import ZincSmiles\n",
    "\n",
    "for s in ['valid', 'test', 'train']:\n",
    "    ds = ZincSmiles(split=s, enc_suffix=\"HRR7744\")\n",
    "    # HRRTensor([ 0.0589,  0.2546,  0.0979,  ..., -0.0511,  0.0170, -0.0878])\n",
    "    node = ds.node_terms\n",
    "    graph = ds.graph_terms\n",
    "\n",
    "    def fmt_stats(t):\n",
    "        return (\n",
    "            f\"- min: {t.min().item():+.4f}  max: {t.max().item():+.4f}  mean: {t.mean().item():+.4f} Median: {t.median().item():+.4f}\\n\"\n",
    "        )\n",
    "\n",
    "\n",
    "    print(\n",
    "        f\"---------{s}----------\"\n",
    "        f\"ZincSmiles({s}, enc_suffix='HRR7744')\\n\"\n",
    "        \".. rubric:: Encoded tensor statistics\\n\\n\"\n",
    "        \"**Node terms**\\n\"\n",
    "        f\"{fmt_stats(node)}\"\n",
    "        \"**Graph terms**\\n\"\n",
    "        f\"{fmt_stats(graph)}\"\n",
    ")"
   ],
   "id": "392d27c2fc6117d4",
   "outputs": [
    {
     "name": "stdout",
     "output_type": "stream",
     "text": [
      "---------valid----------ZincSmiles(valid, enc_suffix='HRR7744')\n",
      ".. rubric:: Encoded tensor statistics\n",
      "\n",
      "**Node terms**\n",
      "- min: -0.9017  max: +0.9158  mean: +0.0008 Median: +0.0006\n",
      "**Graph terms**\n",
      "- min: -25233.6641  max: +25318.3516  mean: +0.0135 Median: +0.3074\n",
      "\n",
      "---------test----------ZincSmiles(test, enc_suffix='HRR7744')\n",
      ".. rubric:: Encoded tensor statistics\n",
      "\n",
      "**Node terms**\n",
      "- min: -0.7992  max: +0.9377  mean: +0.0008 Median: +0.0006\n",
      "**Graph terms**\n",
      "- min: -16596.3379  max: +16393.8242  mean: +0.0165 Median: +0.3019\n",
      "\n",
      "---------train----------ZincSmiles(train, enc_suffix='HRR7744')\n",
      ".. rubric:: Encoded tensor statistics\n",
      "\n",
      "**Node terms**\n",
      "- min: -1.0664  max: +1.0895  mean: +0.0008 Median: +0.0006\n",
      "**Graph terms**\n",
      "- min: -29267.9609  max: +28255.9824  mean: +0.0145 Median: +0.3219\n",
      "\n"
     ]
    }
   ],
   "execution_count": 5
  },
  {
   "metadata": {},
   "cell_type": "code",
   "outputs": [],
   "execution_count": null,
   "source": "",
   "id": "62e9c7ae55d4e3a5"
  }
 ],
 "metadata": {
  "kernelspec": {
   "display_name": "default",
   "language": "python",
   "name": "python3"
  },
  "language_info": {
   "codemirror_mode": {
    "name": "ipython",
    "version": 3
   },
   "file_extension": ".py",
   "mimetype": "text/x-python",
   "name": "python",
   "nbconvert_exporter": "python",
   "pygments_lexer": "ipython3",
   "version": "3.13.5"
  }
 },
 "nbformat": 4,
 "nbformat_minor": 5
}
