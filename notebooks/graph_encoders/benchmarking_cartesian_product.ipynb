{
 "cells": [
  {
   "cell_type": "code",
   "id": "initial_id",
   "metadata": {
    "collapsed": true,
    "ExecuteTime": {
     "end_time": "2025-05-25T14:07:20.618455Z",
     "start_time": "2025-05-25T14:07:20.612573Z"
    }
   },
   "source": [
    "\n",
    "import torchhd\n",
    "import torch\n",
    "\n",
    "def cartesian_bind_tensor(tensors: list[torch.Tensor]) -> torch.Tensor:\n",
    "    \"\"\"\n",
    "    Fully vectorized: builds an index‐grid via torch.cartesian_prod,\n",
    "    gathers each set, stacks along new dim=1 [P,D], and multibinds.\n",
    "    Returns [N_prod, D].\n",
    "    \"\"\"\n",
    "    if not tensors:\n",
    "        raise ValueError(\"Need at least one set\")\n",
    "    # 1) get the shapes and build the cartesian product of indices\n",
    "    shapes = [s.shape[0] for s in tensors]\n",
    "    grids  = torch.cartesian_prod(\n",
    "        *[torch.arange(n, device=tensors[0].device) for n in shapes]\n",
    "    )  # → [N_prod, K]\n",
    "\n",
    "    # 2) for each position k, gather hypervectors\n",
    "    #    hv_k: [N_prod, D]\n",
    "    hv_list = [tensors[k][grids[:, k]] for k in range(len(tensors))]\n",
    "\n",
    "    # 3) stack them into [N_prod, K, D]\n",
    "    stacked = torch.stack(hv_list, dim=1)\n",
    "\n",
    "    # 4) multibind along dim=1 → [N_prod, D]\n",
    "    return torchhd.multibind(stacked)\n",
    "\n",
    "def cartesian_bind_tensor_2(list_tensors):\n",
    "    \"\"\"\n",
    "    Args:\n",
    "        list_tensors: List of P hypervector tensors, each [Nₚ, D].\n",
    "    Returns:\n",
    "        keys:  List of length B=∏Nₚ, each a tuple (i₁,…,iₚ).\n",
    "        out:   Tensor of shape [B, D], where\n",
    "               out[b] = torchhd.multibind([list_tensors[p][iₚ₍b₎] for p in 0..P-1]).\n",
    "    \"\"\"\n",
    "    # Number of domains and feature-dim\n",
    "    P    = len(list_tensors)\n",
    "    # 1) build a meshgrid of indices [N₁,…,Nₚ] → P tensors each [N₁…Nₚ]\n",
    "    ranges = [torch.arange(t.shape[0], device=t.device) for t in list_tensors]\n",
    "    grids  = torch.meshgrid(*ranges, indexing='ij')\n",
    "\n",
    "    # 2) flatten each grid to shape [B]\n",
    "    idxs = [g.reshape(-1) for g in grids]\n",
    "    B    = idxs[0].numel()\n",
    "\n",
    "    # 3) gather each domain into [B, D]\n",
    "    gathered = [list_tensors[p][idxs[p]] for p in range(P)]  # list of [B,D]\n",
    "\n",
    "    # 4) stack into [B, P, D] and bind across P → [B, D]\n",
    "    stacked = torch.stack(gathered, dim=1)  # shape [B, P, D]\n",
    "    # → [B, D]\n",
    "    return torchhd.multibind(stacked)\n",
    "\n",
    "import torch\n",
    "import torchhd\n",
    "from typing import List\n",
    "\n",
    "def cartesian_bind_tensor_3(tensors: List[torch.Tensor]) -> torch.Tensor:\n",
    "    \"\"\"\n",
    "    Given a list of P hypervector sets [N_p, D],\n",
    "    returns a [∏N_p, D] tensor where each row is the bind\n",
    "    of one choice from each set.\n",
    "    \"\"\"\n",
    "    # Number of domains (P) and feature-dim (D)\n",
    "    P = len(tensors)\n",
    "    if P == 0:\n",
    "        raise ValueError(\"Need at least one tensor\")\n",
    "    D = tensors[0].shape[1]\n",
    "    device = tensors[0].device\n",
    "\n",
    "    # 1) Build all combinations of indices: shape [B, P]\n",
    "    ranges = [torch.arange(t.shape[0], device=device) for t in tensors]\n",
    "    idx_grid = torch.cartesian_prod(*ranges)  # → [B, P]\n",
    "\n",
    "    # 2) Gather the corresponding hypervectors: list of [B, D]\n",
    "    gathered = [\n",
    "        tensors[p][idx_grid[:, p]]\n",
    "        for p in range(P)\n",
    "    ]\n",
    "\n",
    "    # 3) Stack into [B, P, D] and multibind → [B, D]\n",
    "    stacked = torch.stack(gathered, dim=1)\n",
    "    return torchhd.multibind(stacked)"
   ],
   "outputs": [],
   "execution_count": 10
  },
  {
   "metadata": {},
   "cell_type": "markdown",
   "source": [
    "## Prepare Data\n",
    "\n",
    "We’ll fix `D=256` and benchmark 2-way Cartesian binds for N=10, 50, 100."
   ],
   "id": "8315e0bb7be8b968"
  },
  {
   "metadata": {
    "ExecuteTime": {
     "end_time": "2025-05-25T14:09:30.375297Z",
     "start_time": "2025-05-25T14:09:30.334330Z"
    }
   },
   "cell_type": "code",
   "source": [
    "# Cell 2: generate datasets\n",
    "\n",
    "torch.manual_seed(0)\n",
    "D = 3000\n",
    "sizes = [100, 500, 1000]\n",
    "\n",
    "data_sets = {\n",
    "    N: [\n",
    "        torchhd.random(N, D, vsa=\"MAP\", device=\"cpu\"),\n",
    "        torchhd.random(N, D, vsa=\"MAP\", device=\"cpu\")\n",
    "    ]\n",
    "    for N in sizes\n",
    "}"
   ],
   "id": "dd5cf1d9fe7bc3bf",
   "outputs": [],
   "execution_count": 15
  },
  {
   "metadata": {
    "jupyter": {
     "is_executing": true
    },
    "ExecuteTime": {
     "start_time": "2025-05-25T14:09:31.834031Z"
    }
   },
   "cell_type": "code",
   "source": [
    "# Cell 3: benchmarking loop\n",
    "\n",
    "results = {}\n",
    "\n",
    "for N, sets in data_sets.items():\n",
    "    print(f\"\\n--- N = {N} ---\")\n",
    "    # meshgrid version\n",
    "    time_mesh = get_ipython().run_line_magic(\n",
    "        'timeit', '-o cartesian_bind_tensor(sets)'\n",
    "    )\n",
    "    # broadcast version\n",
    "    time_bcast = get_ipython().run_line_magic(\n",
    "        'timeit', '-o cartesian_bind_tensor_2(sets)'\n",
    "    )\n",
    "    results[N] = {\n",
    "        'mesh': time_mesh.average,\n",
    "        'bcast': time_bcast.average\n",
    "    }"
   ],
   "id": "f292f16d8a09b8be",
   "outputs": [
    {
     "name": "stdout",
     "output_type": "stream",
     "text": [
      "\n",
      "--- N = 100 ---\n",
      "26.4 ms ± 1.02 ms per loop (mean ± std. dev. of 7 runs, 10 loops each)\n",
      "25.8 ms ± 932 μs per loop (mean ± std. dev. of 7 runs, 10 loops each)\n",
      "\n",
      "--- N = 500 ---\n",
      "1.93 s ± 35.9 ms per loop (mean ± std. dev. of 7 runs, 1 loop each)\n",
      "2.2 s ± 265 ms per loop (mean ± std. dev. of 7 runs, 1 loop each)\n",
      "\n",
      "--- N = 1000 ---\n"
     ]
    }
   ],
   "execution_count": null
  },
  {
   "metadata": {},
   "cell_type": "code",
   "outputs": [],
   "execution_count": null,
   "source": "",
   "id": "15064f8d1b4b7443"
  },
  {
   "metadata": {},
   "cell_type": "code",
   "outputs": [],
   "execution_count": null,
   "source": "",
   "id": "a27ba72890187ca5"
  }
 ],
 "metadata": {
  "kernelspec": {
   "display_name": "Python 3",
   "language": "python",
   "name": "python3"
  },
  "language_info": {
   "codemirror_mode": {
    "name": "ipython",
    "version": 2
   },
   "file_extension": ".py",
   "mimetype": "text/x-python",
   "name": "python",
   "nbconvert_exporter": "python",
   "pygments_lexer": "ipython2",
   "version": "2.7.6"
  }
 },
 "nbformat": 4,
 "nbformat_minor": 5
}
