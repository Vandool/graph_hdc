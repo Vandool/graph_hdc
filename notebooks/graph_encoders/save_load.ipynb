{
 "cells": [
  {
   "cell_type": "code",
   "id": "initial_id",
   "metadata": {
    "collapsed": true,
    "ExecuteTime": {
     "end_time": "2025-06-27T14:38:38.831897Z",
     "start_time": "2025-06-27T14:38:35.262423Z"
    }
   },
   "source": [
    "import torch\n",
    "\n",
    "from src.encoding.graph_encoders import HyperNet\n",
    "from src.encoding.the_types import VSAModel\n",
    "from src.encoding.configs_and_constants import SupportedDataset\n",
    "from src.utils.utils import DATASET_TEST_PATH\n",
    "\n",
    "ds = SupportedDataset.ZINC_NODE_DEGREE_COMB\n",
    "ds.default_cfg.vsa = VSAModel.HRR\n",
    "ds.default_cfg.hv_dim = 80*80\n",
    "ds.default_cfg.device = \"cpu\"\n",
    "ds.default_cfg.seed = 42\n",
    "### Initialize Hypernet and evals\n",
    "hypernet = HyperNet(config=ds.default_cfg, hidden_dim=ds.default_cfg.hv_dim, depth=3)"
   ],
   "outputs": [],
   "execution_count": 1
  },
  {
   "metadata": {
    "ExecuteTime": {
     "end_time": "2025-06-27T14:38:39.050723Z",
     "start_time": "2025-06-27T14:38:39.004081Z"
    }
   },
   "cell_type": "code",
   "source": [
    "from src.datasets import AddNodeDegree\n",
    "from torch_geometric.datasets import ZINC\n",
    "import torch_geometric.loader as loader\n",
    "\n",
    "dataset =   ZINC(root=DATASET_TEST_PATH / ds.value ,pre_transform=AddNodeDegree())\n",
    "loader =    loader.DataLoader(dataset, batch_size=3, shuffle=False)"
   ],
   "id": "f9b5b64235dc7ee1",
   "outputs": [],
   "execution_count": 2
  },
  {
   "metadata": {
    "ExecuteTime": {
     "end_time": "2025-06-27T14:38:39.079731Z",
     "start_time": "2025-06-27T14:38:39.056999Z"
    }
   },
   "cell_type": "code",
   "source": [
    "data = next(iter(loader))\n",
    "enc = hypernet.forward(data)"
   ],
   "id": "be53e9727740159e",
   "outputs": [],
   "execution_count": 3
  },
  {
   "metadata": {
    "ExecuteTime": {
     "end_time": "2025-06-27T14:38:39.091740Z",
     "start_time": "2025-06-27T14:38:39.089712Z"
    }
   },
   "cell_type": "code",
   "source": [
    "from pathlib import Path\n",
    "\n",
    "path = Path()\n",
    "print(path.absolute())"
   ],
   "id": "338fcd14a76f5a80",
   "outputs": [
    {
     "name": "stdout",
     "output_type": "stream",
     "text": [
      "/Users/arvandkaveh/Projects/kit/graph_hdc/notebooks/graph_encoders\n"
     ]
    }
   ],
   "execution_count": 4
  },
  {
   "metadata": {
    "ExecuteTime": {
     "end_time": "2025-06-27T14:38:39.109033Z",
     "start_time": "2025-06-27T14:38:39.097088Z"
    }
   },
   "cell_type": "code",
   "source": "hypernet.save_to_path(path=path / \"hypernet.pt\")",
   "id": "400a7860a4a79796",
   "outputs": [],
   "execution_count": 5
  },
  {
   "metadata": {
    "ExecuteTime": {
     "end_time": "2025-06-27T14:41:57.592528Z",
     "start_time": "2025-06-27T14:41:57.550857Z"
    }
   },
   "cell_type": "code",
   "source": [
    "\n",
    "ds_2 = SupportedDataset.QM9\n",
    "\n",
    "\n",
    "hypernet_2 = HyperNet.load(path=path / \"hypernet.pt\")\n",
    "print(hypernet.node_encoder_map)\n",
    "print(hypernet_2.node_encoder_map)\n",
    "\n",
    "print(hypernet.edge_encoder_map)\n",
    "print(hypernet_2.edge_encoder_map)\n",
    "\n",
    "print(hypernet.graph_encoder_map)\n",
    "print(hypernet_2.graph_encoder_map)\n",
    "\n",
    "enc2 = hypernet_2.forward(data)\n",
    "\n",
    "print(enc)\n",
    "print(enc2)\n",
    "\n",
    "import torch\n",
    "for k, v in enc.items():\n",
    "    assert k in enc2\n",
    "    assert torch.equal(v, enc2[k])"
   ],
   "id": "b4bf7b24d6311057",
   "outputs": [
    {
     "name": "stdout",
     "output_type": "stream",
     "text": [
      "{<Features.ATOM_TYPE: 'atom_type'>: (<src.encoding.feature_encoders.CombinatoricIntegerEncoder object at 0x33257bb60>, (0, 2))}\n",
      "{<Features.ATOM_TYPE: 'atom_type'>: (<src.encoding.feature_encoders.CombinatoricIntegerEncoder object at 0x3327827a0>, (0, 2))}\n",
      "{<Features.BOND_TYPE: 'bond_type'>: (<src.encoding.feature_encoders.CategoricalIntegerEncoder object at 0x33257bcb0>, (0, 1))}\n",
      "{<Features.BOND_TYPE: 'bond_type'>: (<src.encoding.feature_encoders.CategoricalIntegerEncoder object at 0x332782be0>, (0, 1))}\n",
      "{}\n",
      "{}\n",
      "{'graph_embedding': HRRTensor([[-867.4296,  -30.5866, -578.7773,  ..., -101.1428, -428.4107,\n",
      "            -973.7167],\n",
      "           [-237.6760,  -89.4683, -134.8726,  ...,  137.3415,  396.9153,\n",
      "              -3.8505],\n",
      "           [ 976.4124, -185.9024, -143.7151,  ...,  912.4732, -499.0302,\n",
      "             690.4807]]), 'node_hv_stack': HRRTensor([[[ 1.6878e-02,  1.1472e-02, -1.0122e-02,  ...,  3.2535e-03,\n",
      "             -6.7148e-03,  1.9060e-05],\n",
      "            [-9.7564e-03,  3.5202e-03,  1.4508e-02,  ...,  2.0795e-02,\n",
      "              1.1147e-02, -1.9473e-02],\n",
      "            [ 3.7745e-02,  8.9064e-03,  2.7339e-03,  ..., -3.6344e-02,\n",
      "              1.2314e-02,  7.0133e-03],\n",
      "            [-4.0082e+00,  2.3545e+00,  2.0854e+00,  ..., -2.7886e+00,\n",
      "             -2.1118e+00,  2.1978e+00]],\n",
      "\n",
      "           [[-1.4426e-02,  7.2193e-03,  9.9635e-03,  ..., -2.0374e-03,\n",
      "             -1.5297e-02, -8.3604e-03],\n",
      "            [-5.1267e-03,  9.7860e-03,  1.6688e-02,  ...,  3.0672e-02,\n",
      "             -1.8103e-02,  4.7096e-03],\n",
      "            [ 2.0688e-02, -7.1860e-02, -1.1475e-01,  ..., -1.1431e-01,\n",
      "              2.3515e-01,  1.2097e-01],\n",
      "            [-6.6864e+01,  1.8887e+01, -1.0479e+01,  ..., -5.2900e+01,\n",
      "             -3.4138e+01, -3.0662e+00]],\n",
      "\n",
      "           [[-1.4426e-02,  7.2193e-03,  9.9635e-03,  ..., -2.0374e-03,\n",
      "             -1.5297e-02, -8.3604e-03],\n",
      "            [ 9.2595e-03,  1.2532e-02,  4.3605e-03,  ...,  1.9754e-02,\n",
      "             -5.8500e-02,  4.8365e-02],\n",
      "            [ 1.1971e-01, -3.7302e-01, -2.8795e-01,  ..., -1.1890e-01,\n",
      "              5.8896e-01,  2.2907e-01],\n",
      "            [-1.6228e+02,  4.8460e+01, -9.3298e+01,  ..., -1.6218e+02,\n",
      "             -8.9502e+01, -4.4734e+01]],\n",
      "\n",
      "           ...,\n",
      "\n",
      "           [[ 1.0720e-02, -6.5790e-04, -1.7282e-02,  ..., -1.3301e-02,\n",
      "              8.0388e-03, -1.2237e-03],\n",
      "            [-1.1500e-02, -1.7520e-02, -1.3269e-02,  ..., -3.9848e-03,\n",
      "              1.3562e-02, -2.1247e-02],\n",
      "            [-2.5177e-02, -1.4985e-02, -2.8501e-02,  ...,  2.8670e-01,\n",
      "             -4.1624e-01,  2.5168e-01],\n",
      "            [-7.5354e+01,  1.1798e+01, -7.4219e+01,  ...,  7.7302e+01,\n",
      "              2.4384e+00, -7.9552e+00]],\n",
      "\n",
      "           [[-1.4426e-02,  7.2193e-03,  9.9635e-03,  ..., -2.0374e-03,\n",
      "             -1.5297e-02, -8.3604e-03],\n",
      "            [ 2.0437e-03,  8.1058e-03, -5.7607e-03,  ..., -5.7545e-05,\n",
      "             -2.5399e-02,  2.3785e-02],\n",
      "            [-1.5726e-02, -1.6854e-01, -1.9532e-01,  ...,  4.7986e-02,\n",
      "             -3.9164e-02,  2.8518e-01],\n",
      "            [-5.3299e+01, -1.4080e+01, -5.1077e+01,  ...,  3.9290e+01,\n",
      "              3.5167e+01,  1.6527e+00]],\n",
      "\n",
      "           [[-1.4426e-02,  7.2193e-03,  9.9635e-03,  ..., -2.0374e-03,\n",
      "             -1.5297e-02, -8.3604e-03],\n",
      "            [ 2.0437e-03,  8.1058e-03, -5.7607e-03,  ..., -5.7545e-05,\n",
      "             -2.5399e-02,  2.3785e-02],\n",
      "            [-1.5726e-02, -1.6854e-01, -1.9532e-01,  ...,  4.7986e-02,\n",
      "             -3.9164e-02,  2.8518e-01],\n",
      "            [-5.3299e+01, -1.4080e+01, -5.1077e+01,  ...,  3.9290e+01,\n",
      "              3.5167e+01,  1.6527e+00]]]), 'node_terms': HRRTensor([[-0.0105,  0.1050, -0.0946,  ..., -0.2170, -0.1419, -0.1569],\n",
      "           [-0.0169,  0.0719, -0.0233,  ..., -0.0793, -0.0930, -0.1212],\n",
      "           [ 0.0194,  0.0093, -0.1349,  ..., -0.1322,  0.0197, -0.0988]]), 'edge_terms': HRRTensor([[ 0.0879,  0.1802, -0.2436,  ..., -0.0484, -0.0673, -0.1636],\n",
      "           [-0.0327, -0.0292, -0.1953,  ..., -0.0113, -0.1404,  0.1042],\n",
      "           [ 0.0490, -0.2088, -0.0832,  ...,  0.1601,  0.2525, -0.4028]])}\n",
      "{'graph_embedding': HRRTensor([[-867.4296,  -30.5866, -578.7773,  ..., -101.1428, -428.4107,\n",
      "            -973.7167],\n",
      "           [-237.6760,  -89.4683, -134.8726,  ...,  137.3415,  396.9153,\n",
      "              -3.8505],\n",
      "           [ 976.4124, -185.9024, -143.7151,  ...,  912.4732, -499.0302,\n",
      "             690.4807]]), 'node_hv_stack': HRRTensor([[[ 1.6878e-02,  1.1472e-02, -1.0122e-02,  ...,  3.2535e-03,\n",
      "             -6.7148e-03,  1.9060e-05],\n",
      "            [-9.7564e-03,  3.5202e-03,  1.4508e-02,  ...,  2.0795e-02,\n",
      "              1.1147e-02, -1.9473e-02],\n",
      "            [ 3.7745e-02,  8.9064e-03,  2.7339e-03,  ..., -3.6344e-02,\n",
      "              1.2314e-02,  7.0133e-03],\n",
      "            [-4.0082e+00,  2.3545e+00,  2.0854e+00,  ..., -2.7886e+00,\n",
      "             -2.1118e+00,  2.1978e+00]],\n",
      "\n",
      "           [[-1.4426e-02,  7.2193e-03,  9.9635e-03,  ..., -2.0374e-03,\n",
      "             -1.5297e-02, -8.3604e-03],\n",
      "            [-5.1267e-03,  9.7860e-03,  1.6688e-02,  ...,  3.0672e-02,\n",
      "             -1.8103e-02,  4.7096e-03],\n",
      "            [ 2.0688e-02, -7.1860e-02, -1.1475e-01,  ..., -1.1431e-01,\n",
      "              2.3515e-01,  1.2097e-01],\n",
      "            [-6.6864e+01,  1.8887e+01, -1.0479e+01,  ..., -5.2900e+01,\n",
      "             -3.4138e+01, -3.0662e+00]],\n",
      "\n",
      "           [[-1.4426e-02,  7.2193e-03,  9.9635e-03,  ..., -2.0374e-03,\n",
      "             -1.5297e-02, -8.3604e-03],\n",
      "            [ 9.2595e-03,  1.2532e-02,  4.3605e-03,  ...,  1.9754e-02,\n",
      "             -5.8500e-02,  4.8365e-02],\n",
      "            [ 1.1971e-01, -3.7302e-01, -2.8795e-01,  ..., -1.1890e-01,\n",
      "              5.8896e-01,  2.2907e-01],\n",
      "            [-1.6228e+02,  4.8460e+01, -9.3298e+01,  ..., -1.6218e+02,\n",
      "             -8.9502e+01, -4.4734e+01]],\n",
      "\n",
      "           ...,\n",
      "\n",
      "           [[ 1.0720e-02, -6.5790e-04, -1.7282e-02,  ..., -1.3301e-02,\n",
      "              8.0388e-03, -1.2237e-03],\n",
      "            [-1.1500e-02, -1.7520e-02, -1.3269e-02,  ..., -3.9848e-03,\n",
      "              1.3562e-02, -2.1247e-02],\n",
      "            [-2.5177e-02, -1.4985e-02, -2.8501e-02,  ...,  2.8670e-01,\n",
      "             -4.1624e-01,  2.5168e-01],\n",
      "            [-7.5354e+01,  1.1798e+01, -7.4219e+01,  ...,  7.7302e+01,\n",
      "              2.4384e+00, -7.9552e+00]],\n",
      "\n",
      "           [[-1.4426e-02,  7.2193e-03,  9.9635e-03,  ..., -2.0374e-03,\n",
      "             -1.5297e-02, -8.3604e-03],\n",
      "            [ 2.0437e-03,  8.1058e-03, -5.7607e-03,  ..., -5.7545e-05,\n",
      "             -2.5399e-02,  2.3785e-02],\n",
      "            [-1.5726e-02, -1.6854e-01, -1.9532e-01,  ...,  4.7986e-02,\n",
      "             -3.9164e-02,  2.8518e-01],\n",
      "            [-5.3299e+01, -1.4080e+01, -5.1077e+01,  ...,  3.9290e+01,\n",
      "              3.5167e+01,  1.6527e+00]],\n",
      "\n",
      "           [[-1.4426e-02,  7.2193e-03,  9.9635e-03,  ..., -2.0374e-03,\n",
      "             -1.5297e-02, -8.3604e-03],\n",
      "            [ 2.0437e-03,  8.1058e-03, -5.7607e-03,  ..., -5.7545e-05,\n",
      "             -2.5399e-02,  2.3785e-02],\n",
      "            [-1.5726e-02, -1.6854e-01, -1.9532e-01,  ...,  4.7986e-02,\n",
      "             -3.9164e-02,  2.8518e-01],\n",
      "            [-5.3299e+01, -1.4080e+01, -5.1077e+01,  ...,  3.9290e+01,\n",
      "              3.5167e+01,  1.6527e+00]]]), 'node_terms': HRRTensor([[-0.0105,  0.1050, -0.0946,  ..., -0.2170, -0.1419, -0.1569],\n",
      "           [-0.0169,  0.0719, -0.0233,  ..., -0.0793, -0.0930, -0.1212],\n",
      "           [ 0.0194,  0.0093, -0.1349,  ..., -0.1322,  0.0197, -0.0988]]), 'edge_terms': HRRTensor([[ 0.0879,  0.1802, -0.2436,  ..., -0.0484, -0.0673, -0.1636],\n",
      "           [-0.0327, -0.0292, -0.1953,  ..., -0.0113, -0.1404,  0.1042],\n",
      "           [ 0.0490, -0.2088, -0.0832,  ...,  0.1601,  0.2525, -0.4028]])}\n"
     ]
    }
   ],
   "execution_count": 11
  },
  {
   "metadata": {},
   "cell_type": "code",
   "outputs": [],
   "execution_count": null,
   "source": "",
   "id": "113e828eed3cbbb3"
  }
 ],
 "metadata": {
  "kernelspec": {
   "display_name": "Python 3",
   "language": "python",
   "name": "python3"
  },
  "language_info": {
   "codemirror_mode": {
    "name": "ipython",
    "version": 2
   },
   "file_extension": ".py",
   "mimetype": "text/x-python",
   "name": "python",
   "nbconvert_exporter": "python",
   "pygments_lexer": "ipython2",
   "version": "2.7.6"
  }
 },
 "nbformat": 4,
 "nbformat_minor": 5
}
