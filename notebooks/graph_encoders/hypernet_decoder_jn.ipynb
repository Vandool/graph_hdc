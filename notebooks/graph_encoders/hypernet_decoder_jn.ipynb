{
 "cells": [
  {
   "cell_type": "code",
   "id": "initial_id",
   "metadata": {
    "collapsed": true,
    "ExecuteTime": {
     "end_time": "2025-05-31T15:01:49.217293Z",
     "start_time": "2025-05-31T15:01:47.492713Z"
    }
   },
   "source": [
    "from torch_geometric.datasets import ZINC, QM9\n",
    "from pathlib import Path\n",
    "\n",
    "\n",
    "def get_zinc_ds():\n",
    "    root = Path.cwd()\n",
    "    project_dir = root.resolve().parent\n",
    "    datasets = project_dir / \"datasets\"\n",
    "    return ZINC(root=datasets / 'test' / 'zinc_subset', subset=True)\n",
    "\n",
    "def get_qm9_ds():\n",
    "    root = Path.cwd()\n",
    "    project_dir = root.resolve().parent\n",
    "    datasets = project_dir / \"datasets\"\n",
    "    root = datasets / 'test' / 'QM9'\n",
    "    print(f\"Downloading Dataset from: {root.as_posix()}\")\n",
    "    return QM9(root=root)"
   ],
   "outputs": [],
   "execution_count": 1
  },
  {
   "metadata": {},
   "cell_type": "markdown",
   "source": "## Decoder with ZINC",
   "id": "8172873b3b8a179"
  },
  {
   "metadata": {
    "ExecuteTime": {
     "end_time": "2025-05-31T15:01:51.104670Z",
     "start_time": "2025-05-31T15:01:49.324089Z"
    }
   },
   "cell_type": "code",
   "source": [
    "\n",
    "from torch_geometric.loader import DataLoader\n",
    "\n",
    "from src.encoding.graph_encoders import HyperNet\n",
    "from src.encoding.configs_and_constants import SupportedDataset\n",
    "\n",
    "ds = SupportedDataset.ZINC\n",
    "\n",
    "hypernet = HyperNet(\n",
    "    config=ds.default_cfg,\n",
    "    hidden_dim=ds.default_cfg.hv_dim,\n",
    ")\n",
    "\n",
    "batch_size = 10\n",
    "zinc_ds = get_zinc_ds()\n",
    "dataloader = DataLoader(zinc_ds, batch_size=batch_size, shuffle=False)\n",
    "data = next(iter(dataloader))\n",
    "print(hypernet.node_encoder_map)\n",
    "\n",
    "hypernet._populate_nodes_indexer()\n"
   ],
   "id": "36536bde5f36e679",
   "outputs": [
    {
     "name": "stdout",
     "output_type": "stream",
     "text": [
      "{<Features.ATOM_TYPE: 'atom_type'>: (<src.encoding.feature_encoders.CategoricalIntegerEncoder object at 0x14a64f620>, (0, 1))}\n"
     ]
    }
   ],
   "execution_count": 2
  },
  {
   "metadata": {
    "ExecuteTime": {
     "end_time": "2025-05-31T15:03:06.537147Z",
     "start_time": "2025-05-31T15:03:06.534664Z"
    }
   },
   "cell_type": "code",
   "source": [
    "print(hypernet.nodes_indexer.get_tuple(27))\n",
    "print(hypernet.nodes_indexer.get_idx((27,)))\n"
   ],
   "id": "6af6be4a4cc5e806",
   "outputs": [
    {
     "name": "stdout",
     "output_type": "stream",
     "text": [
      "(27,)\n",
      "27\n"
     ]
    }
   ],
   "execution_count": 7
  },
  {
   "metadata": {},
   "cell_type": "markdown",
   "source": "## Decoder with QM9",
   "id": "b331a5a2828c5578"
  },
  {
   "metadata": {},
   "cell_type": "code",
   "source": [
    "\n",
    "from torch_geometric.loader import DataLoader\n",
    "\n",
    "from src.encoding.graph_encoders import HyperNet\n",
    "from src.encoding.configs_and_constants import SupportedDataset\n",
    "\n",
    "ds = SupportedDataset.QM9\n",
    "\n",
    "hypernet = HyperNet(\n",
    "    config=ds.default_cfg,\n",
    "    hidden_dim=ds.default_cfg.hv_dim,\n",
    ")\n",
    "\n",
    "batch_size = 10\n",
    "zinc_ds = get_qm9_ds()\n",
    "dataloader = DataLoader(zinc_ds, batch_size=batch_size, shuffle=True)\n",
    "data = next(iter(dataloader))\n",
    "print(hypernet.node_encoder_map)\n",
    "\n",
    "encoded = hypernet.forward(data)\n",
    "encoders = [en.codebook for en, _ in hypernet.node_encoder_map.values()]\n",
    "# zipped = zip(ds.default_cfg.)"
   ],
   "id": "c5418b4a98137196",
   "outputs": [],
   "execution_count": null
  },
  {
   "metadata": {
    "ExecuteTime": {
     "end_time": "2025-06-01T13:10:32.812868Z",
     "start_time": "2025-06-01T13:10:32.810167Z"
    }
   },
   "cell_type": "code",
   "source": [
    "tensors = []\n",
    "tensor = list(filter(None, tensors))\n",
    "print(tensor)\n",
    "if not tensors:\n",
    "    print(\"Nothing to do\")"
   ],
   "id": "62c1dda6e811416",
   "outputs": [
    {
     "name": "stdout",
     "output_type": "stream",
     "text": [
      "[]\n",
      "Nothing to do\n"
     ]
    }
   ],
   "execution_count": 13
  },
  {
   "metadata": {},
   "cell_type": "code",
   "outputs": [],
   "execution_count": null,
   "source": "",
   "id": "2ccd8160466ec111"
  }
 ],
 "metadata": {
  "kernelspec": {
   "display_name": "Python 3",
   "language": "python",
   "name": "python3"
  },
  "language_info": {
   "codemirror_mode": {
    "name": "ipython",
    "version": 2
   },
   "file_extension": ".py",
   "mimetype": "text/x-python",
   "name": "python",
   "nbconvert_exporter": "python",
   "pygments_lexer": "ipython2",
   "version": "2.7.6"
  }
 },
 "nbformat": 4,
 "nbformat_minor": 5
}
