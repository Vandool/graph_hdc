{
 "cells": [
  {
   "cell_type": "code",
   "id": "e73448c3",
   "metadata": {},
   "source": [
    "!pip install -q torch-scatter -f https://data.pyg.org/whl/torch-1.10.0+cu113.html\n",
    "!pip install -q torch-sparse -f https://data.pyg.org/whl/torch-1.10.0+cu113.html\n",
    "!pip install -q git+https://github.com/pyg-team/pytorch_geometric.git"
   ],
   "outputs": [],
   "execution_count": null
  },
  {
   "cell_type": "code",
   "id": "c3983584",
   "metadata": {},
   "source": [
    "import numpy as np\n",
    "import torch\n",
    "import torch_geometric.datasets as datasets\n",
    "import torch_geometric.data as data\n",
    "import torch_geometric.transforms as transforms\n",
    "import networkx as nx\n",
    "from torch_geometric.utils.convert import to_networkx"
   ],
   "outputs": [],
   "execution_count": null
  },
  {
   "cell_type": "markdown",
   "id": "7991e79d",
   "metadata": {},
   "source": [
    "## Data Handling in PyG"
   ]
  },
  {
   "cell_type": "markdown",
   "id": "f6f91aef",
   "metadata": {},
   "source": [
    "### Data"
   ]
  },
  {
   "cell_type": "markdown",
   "id": "2cc3dc75",
   "metadata": {},
   "source": [
    "Let's create a dummy graph"
   ]
  },
  {
   "cell_type": "code",
   "id": "681cd953",
   "metadata": {},
   "source": [
    "embeddings = torch.rand((100, 16), dtype=torch.float)"
   ],
   "outputs": [],
   "execution_count": null
  },
  {
   "cell_type": "code",
   "id": "cc81154e",
   "metadata": {},
   "source": [
    "rows = np.random.choice(100, 500)\n",
    "cols = np.random.choice(100, 500)\n",
    "edges = torch.tensor([rows, cols])"
   ],
   "outputs": [],
   "execution_count": null
  },
  {
   "cell_type": "code",
   "id": "cd18e171",
   "metadata": {},
   "source": [
    "edges_attr = np.random.choice(3,500)"
   ],
   "outputs": [],
   "execution_count": null
  },
  {
   "cell_type": "code",
   "id": "37ec8b5e",
   "metadata": {},
   "source": [
    "ys = torch.rand((100)).round().long()"
   ],
   "outputs": [],
   "execution_count": null
  },
  {
   "cell_type": "markdown",
   "id": "b8e7de3a",
   "metadata": {},
   "source": [
    "Convert the graph information into a PyG Data object"
   ]
  },
  {
   "cell_type": "code",
   "id": "96b01db9",
   "metadata": {},
   "source": [
    "graph = data.Data(x=embeddings, edge_index=edges, edge_attr=edges_attr, y=ys)"
   ],
   "outputs": [],
   "execution_count": null
  },
  {
   "cell_type": "code",
   "id": "6c09c7db",
   "metadata": {},
   "source": [
    "graph"
   ],
   "outputs": [],
   "execution_count": null
  },
  {
   "cell_type": "markdown",
   "id": "75ec4ee0",
   "metadata": {},
   "source": [
    "Let's visualize the information contained in the data object"
   ]
  },
  {
   "cell_type": "code",
   "id": "85efb8c5",
   "metadata": {},
   "source": [
    "for prop in graph:\n",
    "    print(prop)"
   ],
   "outputs": [],
   "execution_count": null
  },
  {
   "cell_type": "code",
   "id": "21ed3be4",
   "metadata": {},
   "source": [
    "vis = to_networkx(graph)\n",
    "\n",
    "node_labels = graph.y.numpy()\n",
    "\n",
    "import matplotlib.pyplot as plt\n",
    "plt.figure(1,figsize=(15,13)) \n",
    "nx.draw(vis, cmap=plt.get_cmap('Set3'),node_color = node_labels,node_size=70,linewidths=6)\n",
    "plt.show()"
   ],
   "outputs": [],
   "execution_count": null
  },
  {
   "cell_type": "markdown",
   "id": "49035bc9",
   "metadata": {},
   "source": [
    "### Batch"
   ]
  },
  {
   "cell_type": "markdown",
   "id": "35c96b81",
   "metadata": {},
   "source": [
    "With the Batch object we can represent multiple graphs as a single disconnected graph"
   ]
  },
  {
   "cell_type": "code",
   "id": "ab5ec5bb",
   "metadata": {},
   "source": [
    "graph2 = graph"
   ],
   "outputs": [],
   "execution_count": null
  },
  {
   "cell_type": "code",
   "id": "06f22592",
   "metadata": {},
   "source": [
    "batch = data.Batch().from_data_list([graph, graph2])"
   ],
   "outputs": [],
   "execution_count": null
  },
  {
   "cell_type": "code",
   "id": "dd8c5069",
   "metadata": {},
   "source": [
    "print(\"Number of graphs:\",batch.num_graphs)\n",
    "print(\"Graph at index 1:\",batch[1])\n",
    "print(\"Retrieve the list of graphs:\\n\",len(batch.to_data_list()))"
   ],
   "outputs": [],
   "execution_count": null
  },
  {
   "cell_type": "markdown",
   "id": "061a15d0",
   "metadata": {},
   "source": [
    "### Cluster"
   ]
  },
  {
   "cell_type": "markdown",
   "id": "b4854f8a",
   "metadata": {},
   "source": [
    "ClusterData groups the nodes of a graph into a specific number of cluster for faster computation in large graphs, then use ClusterLoader to load batches of clusters"
   ]
  },
  {
   "cell_type": "code",
   "id": "57f64410",
   "metadata": {
    "scrolled": false
   },
   "source": "# cluster = data.ClusterData(graph, 5)",
   "outputs": [],
   "execution_count": null
  },
  {
   "cell_type": "code",
   "id": "3a346ff3",
   "metadata": {},
   "source": [
    "#clusterloader = data.ClusterLoader(cluster)"
   ],
   "outputs": [],
   "execution_count": null
  },
  {
   "cell_type": "markdown",
   "id": "a8cfee13",
   "metadata": {},
   "source": [
    "### Sampler"
   ]
  },
  {
   "cell_type": "markdown",
   "id": "53ce00ce",
   "metadata": {},
   "source": [
    "For each convolutional layer, sample a maximum of nodes from each neighborhood (as in GraphSAGE)"
   ]
  },
  {
   "cell_type": "code",
   "id": "8c0ae419",
   "metadata": {},
   "source": [
    "sampler = data.NeighborSampler(graph.edge_index, sizes=[3,10], batch_size=4,\n",
    "                                  shuffle=False)"
   ],
   "outputs": [],
   "execution_count": null
  },
  {
   "cell_type": "code",
   "id": "e4679ddc",
   "metadata": {
    "scrolled": false
   },
   "source": [
    "for s in sampler:\n",
    "    print(s)\n",
    "    break"
   ],
   "outputs": [],
   "execution_count": null
  },
  {
   "cell_type": "code",
   "id": "6c9cdf37",
   "metadata": {},
   "source": [
    "print(\"Batch size:\", s[0])\n",
    "print(\"Number of unique nodes involved in the sampling:\",len(s[1]))\n",
    "print(\"Number of neighbors sampled:\", len(s[2][0].edge_index[0]), len(s[2][1].edge_index[0]))"
   ],
   "outputs": [],
   "execution_count": null
  },
  {
   "cell_type": "markdown",
   "id": "eeea37b6",
   "metadata": {},
   "source": [
    "### Datasets"
   ]
  },
  {
   "cell_type": "markdown",
   "id": "322ee147",
   "metadata": {},
   "source": [
    "List all the available datasets"
   ]
  },
  {
   "cell_type": "code",
   "id": "b3b49caf",
   "metadata": {
    "ExecuteTime": {
     "end_time": "2025-05-22T10:20:30.415555Z",
     "start_time": "2025-05-22T10:20:30.411371Z"
    }
   },
   "source": [
    "datasets.__all__"
   ],
   "outputs": [
    {
     "data": {
      "text/plain": [
       "['KarateClub',\n",
       " 'TUDataset',\n",
       " 'GNNBenchmarkDataset',\n",
       " 'Planetoid',\n",
       " 'NELL',\n",
       " 'CitationFull',\n",
       " 'CoraFull',\n",
       " 'Coauthor',\n",
       " 'Amazon',\n",
       " 'PPI',\n",
       " 'Reddit',\n",
       " 'Reddit2',\n",
       " 'Flickr',\n",
       " 'Yelp',\n",
       " 'AmazonProducts',\n",
       " 'QM7b',\n",
       " 'QM9',\n",
       " 'MD17',\n",
       " 'ZINC',\n",
       " 'AQSOL',\n",
       " 'MoleculeNet',\n",
       " 'PCQM4Mv2',\n",
       " 'Entities',\n",
       " 'RelLinkPredDataset',\n",
       " 'GEDDataset',\n",
       " 'AttributedGraphDataset',\n",
       " 'MNISTSuperpixels',\n",
       " 'FAUST',\n",
       " 'DynamicFAUST',\n",
       " 'ShapeNet',\n",
       " 'ModelNet',\n",
       " 'CoMA',\n",
       " 'SHREC2016',\n",
       " 'TOSCA',\n",
       " 'PCPNetDataset',\n",
       " 'S3DIS',\n",
       " 'GeometricShapes',\n",
       " 'BitcoinOTC',\n",
       " 'GDELTLite',\n",
       " 'ICEWS18',\n",
       " 'GDELT',\n",
       " 'WILLOWObjectClass',\n",
       " 'PascalVOCKeypoints',\n",
       " 'PascalPF',\n",
       " 'SNAPDataset',\n",
       " 'SuiteSparseMatrixCollection',\n",
       " 'WordNet18',\n",
       " 'WordNet18RR',\n",
       " 'FB15k_237',\n",
       " 'WikiCS',\n",
       " 'WebKB',\n",
       " 'WikipediaNetwork',\n",
       " 'HeterophilousGraphDataset',\n",
       " 'Actor',\n",
       " 'UPFD',\n",
       " 'GitHub',\n",
       " 'FacebookPagePage',\n",
       " 'LastFMAsia',\n",
       " 'DeezerEurope',\n",
       " 'GemsecDeezer',\n",
       " 'Twitch',\n",
       " 'Airports',\n",
       " 'LRGBDataset',\n",
       " 'MalNetTiny',\n",
       " 'OMDB',\n",
       " 'PolBlogs',\n",
       " 'EmailEUCore',\n",
       " 'LINKXDataset',\n",
       " 'EllipticBitcoinDataset',\n",
       " 'EllipticBitcoinTemporalDataset',\n",
       " 'DGraphFin',\n",
       " 'HydroNet',\n",
       " 'AirfRANS',\n",
       " 'JODIEDataset',\n",
       " 'Wikidata5M',\n",
       " 'MyketDataset',\n",
       " 'BrcaTcga',\n",
       " 'NeuroGraphDataset',\n",
       " 'WebQSPDataset',\n",
       " 'DBP15K',\n",
       " 'AMiner',\n",
       " 'OGB_MAG',\n",
       " 'DBLP',\n",
       " 'MovieLens',\n",
       " 'MovieLens100K',\n",
       " 'MovieLens1M',\n",
       " 'IMDB',\n",
       " 'LastFM',\n",
       " 'HGBDataset',\n",
       " 'Taobao',\n",
       " 'IGMCDataset',\n",
       " 'AmazonBook',\n",
       " 'HM',\n",
       " 'OSE_GVCS',\n",
       " 'RCDD',\n",
       " 'OPFDataset',\n",
       " 'CornellTemporalHyperGraphDataset',\n",
       " 'FakeDataset',\n",
       " 'FakeHeteroDataset',\n",
       " 'StochasticBlockModelDataset',\n",
       " 'RandomPartitionGraphDataset',\n",
       " 'MixHopSyntheticDataset',\n",
       " 'ExplainerDataset',\n",
       " 'InfectionDataset',\n",
       " 'BA2MotifDataset',\n",
       " 'BAMultiShapesDataset',\n",
       " 'BAShapes']"
      ]
     },
     "execution_count": 15,
     "metadata": {},
     "output_type": "execute_result"
    }
   ],
   "execution_count": 15
  },
  {
   "cell_type": "code",
   "id": "ea39f999",
   "metadata": {
    "ExecuteTime": {
     "end_time": "2025-05-22T10:20:38.465999Z",
     "start_time": "2025-05-22T10:20:38.444410Z"
    }
   },
   "source": [
    "name = 'Cora'\n",
    "transform = transforms.Compose([\n",
    "    transforms.AddTrainValTestMask('train_rest', num_val=500, num_test=500),\n",
    "    transforms.TargetIndegree(),\n",
    "])\n",
    "cora = datasets.Planetoid('./data', name, pre_transform=transforms.NormalizeFeatures(), transform=transform)"
   ],
   "outputs": [
    {
     "ename": "AttributeError",
     "evalue": "module 'torch_geometric.transforms' has no attribute 'AddTrainValTestMask'",
     "output_type": "error",
     "traceback": [
      "\u001B[31m---------------------------------------------------------------------------\u001B[39m",
      "\u001B[31mAttributeError\u001B[39m                            Traceback (most recent call last)",
      "\u001B[36mCell\u001B[39m\u001B[36m \u001B[39m\u001B[32mIn[16]\u001B[39m\u001B[32m, line 3\u001B[39m\n\u001B[32m      1\u001B[39m name = \u001B[33m'\u001B[39m\u001B[33mCora\u001B[39m\u001B[33m'\u001B[39m\n\u001B[32m      2\u001B[39m transform = transforms.Compose([\n\u001B[32m----> \u001B[39m\u001B[32m3\u001B[39m     \u001B[43mtransforms\u001B[49m\u001B[43m.\u001B[49m\u001B[43mAddTrainValTestMask\u001B[49m(\u001B[33m'\u001B[39m\u001B[33mtrain_rest\u001B[39m\u001B[33m'\u001B[39m, num_val=\u001B[32m500\u001B[39m, num_test=\u001B[32m500\u001B[39m),\n\u001B[32m      4\u001B[39m     transforms.TargetIndegree(),\n\u001B[32m      5\u001B[39m ])\n\u001B[32m      6\u001B[39m cora = datasets.Planetoid(\u001B[33m'\u001B[39m\u001B[33m./data\u001B[39m\u001B[33m'\u001B[39m, name, pre_transform=transforms.NormalizeFeatures(), transform=transform)\n",
      "\u001B[31mAttributeError\u001B[39m: module 'torch_geometric.transforms' has no attribute 'AddTrainValTestMask'"
     ]
    }
   ],
   "execution_count": 16
  },
  {
   "cell_type": "code",
   "id": "4fca4fd9",
   "metadata": {},
   "source": [
    "aids = datasets.TUDataset(root=\"./data\", name=\"AIDS\")"
   ],
   "outputs": [],
   "execution_count": null
  },
  {
   "cell_type": "code",
   "id": "235ae6d7",
   "metadata": {},
   "source": [
    "print(\"AIDS info:\")\n",
    "print('# of graphs:', len(aids))\n",
    "print('# Classes (graphs)', aids.num_classes)\n",
    "print('# Edge features', aids.num_edge_features)\n",
    "print('# Edge labels', aids.num_edge_labels)\n",
    "print('# Node features', aids.num_node_features)"
   ],
   "outputs": [],
   "execution_count": null
  },
  {
   "cell_type": "code",
   "id": "2d1afc18",
   "metadata": {},
   "source": [
    "print(\"Cora info:\")\n",
    "print('# of graphs:', len(cora))\n",
    "print('# Classes (nodes)', cora.num_classes)\n",
    "print('# Edge features', cora.num_edge_features)\n",
    "print('# Node features', cora.num_node_features)"
   ],
   "outputs": [],
   "execution_count": null
  },
  {
   "cell_type": "code",
   "id": "9a1894c6",
   "metadata": {},
   "source": [
    "aids.data"
   ],
   "outputs": [],
   "execution_count": null
  },
  {
   "cell_type": "code",
   "id": "7fd72167",
   "metadata": {},
   "source": [
    "aids[0]"
   ],
   "outputs": [],
   "execution_count": null
  },
  {
   "cell_type": "code",
   "id": "012ff95c",
   "metadata": {},
   "source": [
    "cora.data"
   ],
   "outputs": [],
   "execution_count": null
  },
  {
   "cell_type": "code",
   "id": "8582706d",
   "metadata": {},
   "source": [
    "cora[0]"
   ],
   "outputs": [],
   "execution_count": null
  },
  {
   "cell_type": "code",
   "id": "32a0d0f8",
   "metadata": {},
   "source": [
    "cora_loader = data.DataLoader(cora)"
   ],
   "outputs": [],
   "execution_count": null
  },
  {
   "cell_type": "code",
   "id": "806906c7",
   "metadata": {},
   "source": [
    "for l in cora_loader:\n",
    "    print(l)\n",
    "    break"
   ],
   "outputs": [],
   "execution_count": null
  },
  {
   "cell_type": "code",
   "id": "309dd730",
   "metadata": {},
   "source": [],
   "outputs": [],
   "execution_count": null
  }
 ],
 "metadata": {
  "kernelspec": {
   "display_name": "Python 3 (ipykernel)",
   "language": "python",
   "name": "python3"
  },
  "language_info": {
   "codemirror_mode": {
    "name": "ipython",
    "version": 3
   },
   "file_extension": ".py",
   "mimetype": "text/x-python",
   "name": "python",
   "nbconvert_exporter": "python",
   "pygments_lexer": "ipython3",
   "version": "3.9.7"
  }
 },
 "nbformat": 4,
 "nbformat_minor": 5
}
