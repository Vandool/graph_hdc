{
 "cells": [
  {
   "cell_type": "code",
   "id": "initial_id",
   "metadata": {
    "collapsed": true,
    "ExecuteTime": {
     "end_time": "2025-07-15T08:11:25.769850Z",
     "start_time": "2025-07-15T08:11:18.830313Z"
    }
   },
   "source": [
    "import torch\n",
    "\n",
    "from src.datasets import AddNodeDegree\n",
    "from torch_geometric.datasets import ZINC\n",
    "\n",
    "\n",
    "\n",
    "data = ZINC(\n",
    "    root=\"/Users/arvandkaveh/Projects/kit/graph_hdc/datasets/test/zinc_subset_with_degree\",\n",
    "    pre_transform=AddNodeDegree()\n",
    ")[0]\n",
    "print(data)\n"
   ],
   "outputs": [
    {
     "name": "stdout",
     "output_type": "stream",
     "text": [
      "Data(x=[33, 2], edge_index=[2, 72], edge_attr=[72], y=[1])\n"
     ]
    }
   ],
   "execution_count": 1
  },
  {
   "metadata": {
    "ExecuteTime": {
     "end_time": "2025-07-15T08:37:28.620374Z",
     "start_time": "2025-07-15T08:37:28.614020Z"
    }
   },
   "cell_type": "code",
   "source": [
    "from collections import defaultdict\n",
    "import torch\n",
    "\n",
    "t = torch.tensor([1.0, 2.0])\n",
    "print(t)\n",
    "print(t.shape)\n",
    "print(hash(t) % 3)\n",
    "\n",
    "sources, targets = data.edge_index\n",
    "print(targets)\n",
    "\n",
    "srcs = sources.cpu().numpy()\n",
    "tgts = targets.cpu().numpy()\n",
    "\n",
    "res = defaultdict(int)\n",
    "res[0] = 1\n",
    "\n",
    "\n"
   ],
   "id": "da0b61bd2019adac",
   "outputs": [
    {
     "name": "stdout",
     "output_type": "stream",
     "text": [
      "tensor([1., 2.])\n",
      "torch.Size([2])\n",
      "2\n",
      "tensor([ 1,  0,  2,  1,  3,  2,  4,  3,  5,  4,  6,  5,  7, 32,  6,  8,  7,  9,\n",
      "        31,  8, 10, 11,  9,  9, 12, 28, 11, 13, 12, 14, 27, 13, 15, 16, 14, 14,\n",
      "        17, 25, 16, 18, 23, 17, 19, 18, 20, 19, 21, 22, 20, 20, 23, 17, 22, 24,\n",
      "        23, 16, 26, 27, 25, 13, 25, 11, 29, 30, 28, 28, 31,  8, 30, 32,  6, 31])\n",
      "defaultdict(<class 'int'>, {0: 1})\n"
     ]
    }
   ],
   "execution_count": 12
  },
  {
   "metadata": {},
   "cell_type": "code",
   "outputs": [],
   "execution_count": null,
   "source": "",
   "id": "9a7b8a1c97edd507"
  }
 ],
 "metadata": {
  "kernelspec": {
   "display_name": "Python 3",
   "language": "python",
   "name": "python3"
  },
  "language_info": {
   "codemirror_mode": {
    "name": "ipython",
    "version": 2
   },
   "file_extension": ".py",
   "mimetype": "text/x-python",
   "name": "python",
   "nbconvert_exporter": "python",
   "pygments_lexer": "ipython2",
   "version": "2.7.6"
  }
 },
 "nbformat": 4,
 "nbformat_minor": 5
}
