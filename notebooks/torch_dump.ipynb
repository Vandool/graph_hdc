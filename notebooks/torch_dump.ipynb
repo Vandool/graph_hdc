{
 "cells": [
  {
   "cell_type": "code",
   "id": "initial_id",
   "metadata": {
    "collapsed": true,
    "ExecuteTime": {
     "end_time": "2025-05-21T14:23:54.942387Z",
     "start_time": "2025-05-21T14:23:54.865837Z"
    }
   },
   "source": [
    "\n",
    "from torch_geometric.datasets import ZINC\n",
    "from torch_geometric.loader import DataLoader\n",
    "\n",
    "from src.utils.utils import TupleIndexer\n",
    "\n",
    "p = \"/Users/arvandkaveh/Projects/kit/graph_hdc/datasets/test/ZINC\"\n",
    "dataset = ZINC(root=p)\n",
    "loader = DataLoader(dataset, batch_size=2, shuffle=False)\n",
    "dIter = iter(loader)\n"
   ],
   "outputs": [],
   "execution_count": 12
  },
  {
   "metadata": {
    "ExecuteTime": {
     "end_time": "2025-05-21T14:23:57.401327Z",
     "start_time": "2025-05-21T14:23:57.396358Z"
    }
   },
   "cell_type": "code",
   "source": [
    "d1 = next(dIter)\n",
    "d2 = next(dIter)\n",
    "print(d1.x.shape)\n",
    "print(d2.x.shape)"
   ],
   "id": "3cb0c121bdc5493a",
   "outputs": [
    {
     "name": "stdout",
     "output_type": "stream",
     "text": [
      "torch.Size([51, 1])\n",
      "torch.Size([42, 1])\n"
     ]
    }
   ],
   "execution_count": 13
  },
  {
   "metadata": {
    "ExecuteTime": {
     "end_time": "2025-05-21T14:37:36.163574Z",
     "start_time": "2025-05-21T14:37:36.159968Z"
    }
   },
   "cell_type": "code",
   "source": [
    "import torch\n",
    "\n",
    "# x: [N, D], y: [M, D]\n",
    "z = torch.cat([d1.x, d2.x], dim=0)  # → [N+M, D]\n",
    "z.shape"
   ],
   "id": "2786ec4ae7126c13",
   "outputs": [
    {
     "data": {
      "text/plain": [
       "torch.Size([93, 1])"
      ]
     },
     "execution_count": 21,
     "metadata": {},
     "output_type": "execute_result"
    }
   ],
   "execution_count": 21
  },
  {
   "metadata": {
    "ExecuteTime": {
     "end_time": "2025-05-21T14:41:07.363187Z",
     "start_time": "2025-05-21T14:41:07.360616Z"
    }
   },
   "cell_type": "code",
   "source": [
    "# only works if x.shape == y.shape == [K, D]\n",
    "z_stacked = torch.stack([z, z], dim=0)  # → [2, K, D]\n",
    "z_stacked.shape"
   ],
   "id": "1d4cf9ab4a98e1ca",
   "outputs": [
    {
     "data": {
      "text/plain": [
       "torch.Size([2, 93, 1])"
      ]
     },
     "execution_count": 26,
     "metadata": {},
     "output_type": "execute_result"
    }
   ],
   "execution_count": 26
  },
  {
   "metadata": {
    "ExecuteTime": {
     "end_time": "2025-05-21T14:41:09.895130Z",
     "start_time": "2025-05-21T14:41:09.892787Z"
    }
   },
   "cell_type": "code",
   "source": [
    "def mapping_to_cat(t):\n",
    "    return torch.cat([t, t], dim=0)"
   ],
   "id": "18658e257f3ae4ed",
   "outputs": [],
   "execution_count": 27
  },
  {
   "metadata": {
    "ExecuteTime": {
     "end_time": "2025-05-21T15:22:01.807317Z",
     "start_time": "2025-05-21T15:22:01.804387Z"
    }
   },
   "cell_type": "code",
   "source": [
    "big_t = torch.zeros([3, 2, 4, 5])\n",
    "big_t.shape"
   ],
   "id": "d43271e8d88bf56f",
   "outputs": [
    {
     "data": {
      "text/plain": [
       "torch.Size([3, 2, 4, 5])"
      ]
     },
     "execution_count": 44,
     "metadata": {},
     "output_type": "execute_result"
    }
   ],
   "execution_count": 44
  },
  {
   "metadata": {
    "ExecuteTime": {
     "end_time": "2025-05-21T15:22:03.723260Z",
     "start_time": "2025-05-21T15:22:03.720758Z"
    }
   },
   "cell_type": "code",
   "source": [
    "a, b, c, d = big_t.shape\n",
    "print(a, b, c, d)\n",
    "*A, d = big_t.shape\n",
    "print(A + [d])"
   ],
   "id": "6c06b3a6726152aa",
   "outputs": [
    {
     "name": "stdout",
     "output_type": "stream",
     "text": [
      "3 2 4 5\n",
      "[3, 2, 4, 5]\n"
     ]
    }
   ],
   "execution_count": 45
  },
  {
   "metadata": {
    "ExecuteTime": {
     "end_time": "2025-05-21T15:22:40.457392Z",
     "start_time": "2025-05-21T15:22:40.452685Z"
    }
   },
   "cell_type": "code",
   "source": [
    "print(big_t.shape)\n",
    "f = big_t.flatten()\n",
    "print(f.shape)\n",
    "\n",
    "g = big_t.unsqueeze(-2)\n",
    "print(g.shape)\n",
    "g = big_t.unsqueeze(-1)\n",
    "print(g.shape)\n",
    "g = big_t.unsqueeze(0)\n",
    "print(g.shape)\n",
    "g = big_t.unsqueeze(1)\n",
    "print(g.shape)\n",
    "g = big_t.unsqueeze(2)\n",
    "print(g.shape)\n",
    "\n"
   ],
   "id": "e8c997c4a40e8e7c",
   "outputs": [
    {
     "name": "stdout",
     "output_type": "stream",
     "text": [
      "torch.Size([3, 2, 4, 5])\n",
      "torch.Size([120])\n",
      "torch.Size([3, 2, 4, 1, 5])\n",
      "torch.Size([3, 2, 4, 5, 1])\n",
      "torch.Size([1, 3, 2, 4, 5])\n",
      "torch.Size([3, 1, 2, 4, 5])\n",
      "torch.Size([3, 2, 1, 4, 5])\n",
      "torch.Size([3, 2, 4, 5])\n",
      "torch.Size([3, 2, 4, 5])\n",
      "torch.Size([3, 2, 4, 5])\n",
      "torch.Size([3, 2, 4, 5])\n",
      "torch.Size([3, 2, 4, 5])\n"
     ]
    }
   ],
   "execution_count": 47
  },
  {
   "metadata": {},
   "cell_type": "markdown",
   "source": "## Scatter",
   "id": "e96c2bcc3695bb67"
  },
  {
   "metadata": {
    "ExecuteTime": {
     "end_time": "2025-05-24T08:35:34.240073Z",
     "start_time": "2025-05-24T08:35:34.232839Z"
    }
   },
   "cell_type": "code",
   "source": [
    "import torch\n",
    "from torch_geometric.utils import scatter\n",
    "\n",
    "# Number of items and feature‐dimension\n",
    "N, D = 6, 5\n",
    "\n",
    "# A simple src: rows 0…5 with D features each\n",
    "src = torch.arange(N * D).view(N, D)\n",
    "# src =\n",
    "# tensor([[ 0,  1,  2,  3,  4],\n",
    "#         [ 5,  6,  7,  8,  9],\n",
    "#         [10, 11, 12, 13, 14],\n",
    "#         [15, 16, 17, 18, 19],\n",
    "#         [20, 21, 22, 23, 24],\n",
    "#         [25, 26, 27, 28, 29]])\n",
    "\n",
    "# Assign each of the N rows to a bucket 0,1,2,…\n",
    "idx = torch.tensor([0, 1, 0, 1, 0, 2], dtype=torch.long)\n",
    "\n",
    "# We want 4 buckets (0..3), even though idx.max()+1 = 3\n",
    "dim_size = 4\n",
    "\n",
    "# Scatter‐sum along dim=0 → out shape [dim_size, D]\n",
    "out = scatter(src, idx, dim=0, dim_size=dim_size, reduce='sum')\n",
    "\n",
    "print(\"src.shape =\", src.shape)\n",
    "print(\"idx.shape =\", idx.shape)\n",
    "print(\"out.shape =\", out.shape)\n",
    "print(\"out =\\n\", out)"
   ],
   "id": "6dd70cfed04adf1f",
   "outputs": [
    {
     "name": "stdout",
     "output_type": "stream",
     "text": [
      "src.shape = torch.Size([6, 5])\n",
      "idx.shape = torch.Size([6])\n",
      "out.shape = torch.Size([4, 5])\n",
      "out =\n",
      " tensor([[30, 33, 36, 39, 42],\n",
      "        [20, 22, 24, 26, 28],\n",
      "        [25, 26, 27, 28, 29],\n",
      "        [ 0,  0,  0,  0,  0]])\n"
     ]
    }
   ],
   "execution_count": 9
  },
  {
   "metadata": {
    "ExecuteTime": {
     "end_time": "2025-05-24T09:01:32.765592Z",
     "start_time": "2025-05-24T09:01:32.763083Z"
    }
   },
   "cell_type": "code",
   "source": [
    "import torch\n",
    "\n",
    "a = torch.randn(2, 3)\n",
    "b = torch.zeros_like(a)\n"
   ],
   "id": "8f53a53109a98100",
   "outputs": [],
   "execution_count": 12
  },
  {
   "metadata": {},
   "cell_type": "markdown",
   "source": "# Indexing",
   "id": "19cb6827ae872d23"
  },
  {
   "metadata": {
    "ExecuteTime": {
     "end_time": "2025-06-06T10:48:15.179476Z",
     "start_time": "2025-06-06T10:48:15.174786Z"
    }
   },
   "cell_type": "code",
   "source": [
    "import torch\n",
    "t = torch.Tensor([\n",
    "    [0, 10, 20, 30, 40, 50, 60],\n",
    "    [7, 8, 9, 10, 11, 12, 13]\n",
    "])\n",
    "print(t.shape)\n",
    "indexer = torch.tensor([[0, 1, 2, 0, 1, 2]])\n",
    "print(indexer.shape)\n",
    "\n",
    "res = t[0][indexer]\n",
    "print(res)\n",
    "print(res.shape)"
   ],
   "id": "88f34a75bf3d0ed6",
   "outputs": [
    {
     "name": "stdout",
     "output_type": "stream",
     "text": [
      "torch.Size([2, 7])\n",
      "torch.Size([1, 6])\n",
      "tensor([[ 0., 10., 20.,  0., 10., 20.]])\n",
      "torch.Size([1, 6])\n"
     ]
    }
   ],
   "execution_count": 3
  },
  {
   "metadata": {
    "ExecuteTime": {
     "end_time": "2025-06-13T08:28:31.448344Z",
     "start_time": "2025-06-13T08:28:31.445979Z"
    }
   },
   "cell_type": "code",
   "source": "import torch\n",
   "id": "413fb2009b4e0034",
   "outputs": [],
   "execution_count": 19
  },
  {
   "metadata": {
    "ExecuteTime": {
     "end_time": "2025-06-13T08:28:33.687988Z",
     "start_time": "2025-06-13T08:28:33.684788Z"
    }
   },
   "cell_type": "code",
   "source": [
    "t = torch.Tensor([(0,1), (5, 3)])\n",
    "print(t.shape)\n",
    "print(t)"
   ],
   "id": "9f0e46d61d608df1",
   "outputs": [
    {
     "name": "stdout",
     "output_type": "stream",
     "text": [
      "torch.Size([2, 2])\n",
      "tensor([[0., 1.],\n",
      "        [5., 3.]])\n"
     ]
    }
   ],
   "execution_count": 20
  },
  {
   "metadata": {
    "ExecuteTime": {
     "end_time": "2025-06-13T08:28:34.499626Z",
     "start_time": "2025-06-13T08:28:34.497344Z"
    }
   },
   "cell_type": "code",
   "source": "t = torch.Tensor([[1, 33]])\n",
   "id": "e3de811faf492dd0",
   "outputs": [],
   "execution_count": 21
  },
  {
   "metadata": {
    "ExecuteTime": {
     "end_time": "2025-06-13T08:29:05.827284Z",
     "start_time": "2025-06-13T08:28:56.294857Z"
    }
   },
   "cell_type": "code",
   "source": [
    "from src.utils.utils import TupleIndexer\n",
    "\n",
    "indexer = TupleIndexer([28, 6])"
   ],
   "id": "572560ac3181d466",
   "outputs": [],
   "execution_count": 23
  },
  {
   "metadata": {
    "ExecuteTime": {
     "end_time": "2025-06-13T08:30:08.797011Z",
     "start_time": "2025-06-13T08:30:08.794082Z"
    }
   },
   "cell_type": "code",
   "source": [
    "t_ = [int(i.item()) for i in t.squeeze()]\n",
    "y = torch.tensor(indexer.get_tuples(t_))\n"
   ],
   "id": "8821d8b684ea3945",
   "outputs": [],
   "execution_count": 25
  }
 ],
 "metadata": {
  "kernelspec": {
   "display_name": "Python 3",
   "language": "python",
   "name": "python3"
  },
  "language_info": {
   "codemirror_mode": {
    "name": "ipython",
    "version": 2
   },
   "file_extension": ".py",
   "mimetype": "text/x-python",
   "name": "python",
   "nbconvert_exporter": "python",
   "pygments_lexer": "ipython2",
   "version": "2.7.6"
  }
 },
 "nbformat": 4,
 "nbformat_minor": 5
}
