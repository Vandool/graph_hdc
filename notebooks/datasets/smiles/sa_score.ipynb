{
 "cells": [
  {
   "metadata": {},
   "cell_type": "raw",
   "source": "    pprint(stats)",
   "id": "92b0736100a4c309"
  },
  {
   "cell_type": "code",
   "id": "initial_id",
   "metadata": {
    "collapsed": true,
    "ExecuteTime": {
     "end_time": "2025-10-28T16:23:22.705393Z",
     "start_time": "2025-10-28T16:23:22.692784Z"
    }
   },
   "source": [
    "from src.datasets.qm9_smiles_generation import QM9Smiles\n",
    "from rdkit import Chem\n",
    "from rdkit.Contrib.SA_Score import sascorer\n",
    "\n",
    "from pprint import pprint\n",
    "\n",
    "from src.datasets.sa_score import calculate_sa_score\n",
    "\n",
    "ds = QM9Smiles(split='test', enc_suffix=\"HRR1600\")\n",
    "for i in range(10):\n",
    "    print(\"-------\")\n",
    "    mol = Chem.MolFromSmiles(ds[i]['smiles'])\n",
    "    print(calculate_sa_score(mol))\n",
    "    print(sascorer.calculateScore(mol))"
   ],
   "outputs": [
    {
     "name": "stdout",
     "output_type": "stream",
     "text": [
      "-------\n",
      "9.123077965287575\n",
      "6.467116404910776\n",
      "-------\n",
      "8.56135335853688\n",
      "2.8289086226101716\n",
      "-------\n",
      "8.881149579708854\n",
      "2.85295835991432\n",
      "-------\n",
      "8.950369369609923\n",
      "4.873276610602735\n",
      "-------\n",
      "8.56135335853688\n",
      "3.6402491610717105\n",
      "-------\n",
      "8.56135335853688\n",
      "3.3461972379947875\n",
      "-------\n",
      "9.30526125170269\n",
      "6.035976942309917\n",
      "-------\n",
      "9.099770178562164\n",
      "4.944039784086197\n",
      "-------\n",
      "8.950369369609923\n",
      "3.99885876444889\n",
      "-------\n",
      "8.881149579708854\n",
      "4.02765935991432\n"
     ]
    },
    {
     "name": "stderr",
     "output_type": "stream",
     "text": [
      "[17:23:22] DEPRECATION WARNING: please use MorganGenerator\n",
      "[17:23:22] DEPRECATION WARNING: please use MorganGenerator\n",
      "[17:23:22] DEPRECATION WARNING: please use MorganGenerator\n",
      "[17:23:22] DEPRECATION WARNING: please use MorganGenerator\n",
      "[17:23:22] DEPRECATION WARNING: please use MorganGenerator\n",
      "[17:23:22] DEPRECATION WARNING: please use MorganGenerator\n",
      "[17:23:22] DEPRECATION WARNING: please use MorganGenerator\n",
      "[17:23:22] DEPRECATION WARNING: please use MorganGenerator\n",
      "[17:23:22] DEPRECATION WARNING: please use MorganGenerator\n",
      "[17:23:22] DEPRECATION WARNING: please use MorganGenerator\n"
     ]
    }
   ],
   "execution_count": 3
  },
  {
   "metadata": {
    "ExecuteTime": {
     "end_time": "2025-10-26T19:05:40.021203Z",
     "start_time": "2025-10-26T19:05:40.019641Z"
    }
   },
   "cell_type": "code",
   "source": "",
   "id": "a3f43a34464bddc9",
   "outputs": [],
   "execution_count": null
  }
 ],
 "metadata": {
  "kernelspec": {
   "display_name": "Python 3",
   "language": "python",
   "name": "python3"
  },
  "language_info": {
   "codemirror_mode": {
    "name": "ipython",
    "version": 2
   },
   "file_extension": ".py",
   "mimetype": "text/x-python",
   "name": "python",
   "nbconvert_exporter": "python",
   "pygments_lexer": "ipython2",
   "version": "2.7.6"
  }
 },
 "nbformat": 4,
 "nbformat_minor": 5
}
