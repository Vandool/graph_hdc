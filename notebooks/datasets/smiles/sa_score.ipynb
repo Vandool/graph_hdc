{
 "cells": [
  {
   "metadata": {},
   "cell_type": "raw",
   "source": "    pprint(stats)",
   "id": "92b0736100a4c309"
  },
  {
   "cell_type": "code",
   "id": "initial_id",
   "metadata": {
    "collapsed": true,
    "ExecuteTime": {
     "end_time": "2025-10-26T19:07:05.362575Z",
     "start_time": "2025-10-26T19:07:01.369647Z"
    }
   },
   "source": [
    "from src.datasets.qm9_smiles_generation import QM9Smiles\n",
    "from rdkit import Chem\n",
    "from rdkit.Contrib.SA_Score import sascorer\n",
    "\n",
    "from pprint import pprint\n",
    "\n",
    "ds = QM9Smiles(split='test', enc_suffix=\"HRR1600\")\n",
    "sascorer.calculateScore(Chem.MolFromSmiles(ds[0]['smiles']))"
   ],
   "outputs": [
    {
     "name": "stderr",
     "output_type": "stream",
     "text": [
      "/home/akaveh/Projects/kit/graph_hdc/.pixi/envs/local/lib/python3.11/site-packages/torch_geometric/typing.py:86: UserWarning: An issue occurred while importing 'torch-scatter'. Disabling its usage. Stacktrace: Could not load this library: /home/akaveh/Projects/kit/graph_hdc/.pixi/envs/local/lib/python3.11/site-packages/torch_scatter/_version_cuda.so\n",
      "  warnings.warn(f\"An issue occurred while importing 'torch-scatter'. \"\n"
     ]
    },
    {
     "data": {
      "text/plain": [
       "6.467116404910776"
      ]
     },
     "execution_count": 1,
     "metadata": {},
     "output_type": "execute_result"
    }
   ],
   "execution_count": 1
  },
  {
   "metadata": {
    "ExecuteTime": {
     "end_time": "2025-10-26T19:05:40.021203Z",
     "start_time": "2025-10-26T19:05:40.019641Z"
    }
   },
   "cell_type": "code",
   "source": "",
   "id": "a3f43a34464bddc9",
   "outputs": [],
   "execution_count": null
  }
 ],
 "metadata": {
  "kernelspec": {
   "display_name": "Python 3",
   "language": "python",
   "name": "python3"
  },
  "language_info": {
   "codemirror_mode": {
    "name": "ipython",
    "version": 2
   },
   "file_extension": ".py",
   "mimetype": "text/x-python",
   "name": "python",
   "nbconvert_exporter": "python",
   "pygments_lexer": "ipython2",
   "version": "2.7.6"
  }
 },
 "nbformat": 4,
 "nbformat_minor": 5
}
