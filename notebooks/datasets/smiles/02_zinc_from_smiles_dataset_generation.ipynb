{
 "cells": [
  {
   "cell_type": "code",
   "id": "initial_id",
   "metadata": {
    "collapsed": true,
    "ExecuteTime": {
     "end_time": "2025-08-03T06:58:09.322044Z",
     "start_time": "2025-08-03T06:57:58.542040Z"
    }
   },
   "source": [
    "\n",
    "from pathlib import Path\n",
    "\n",
    "import torch\n",
    "\n",
    "from torch_geometric.data import Data\n",
    "\n",
    "from rdkit import Chem\n",
    "\n",
    "root: Path = Path(\"/Users/arvandkaveh/Projects/kit/graph_hdc\")\n",
    "DATASET_PATH = root / \"_datasets\"\n",
    "smiles_dir: Path = root / \"Smiles/ZINC_smile\"\n",
    "files: list[Path] = [\n",
    "    smiles_dir / \"train_smile.txt\",\n",
    "    smiles_dir / \"test_smile.txt\",\n",
    "    smiles_dir / \"valid_smile.txt\",\n",
    "]\n",
    "\n",
    "\n",
    "def iter_smiles(file: Path):\n",
    "    \"\"\"Yield SMILES strings from each file, skipping an optional header.\"\"\"\n",
    "    with open(file) as fh:\n",
    "        for line_no, line in enumerate(fh):\n",
    "            if line_no == 0 and line.strip().lower() == \"smiles\":\n",
    "                continue\n",
    "            s = line.strip().split()[0]\n",
    "            if s:\n",
    "                yield s"
   ],
   "outputs": [],
   "execution_count": 1
  },
  {
   "metadata": {
    "ExecuteTime": {
     "end_time": "2025-08-03T07:14:58.548480Z",
     "start_time": "2025-08-03T07:14:58.544199Z"
    }
   },
   "cell_type": "code",
   "source": [
    "from rdkit.Chem import Atom, ValenceType\n",
    "\n",
    "atom_to_idx: dict[str, int] = {\n",
    "    'Br': 0, 'C': 1, 'Cl': 2, 'F': 3, 'I': 4, 'N': 5, 'O': 6, 'P': 7, 'S': 8\n",
    "}\n",
    "\n",
    "idx_to_atom: dict[int, str] = {v: k for k, v in atom_to_idx.items()}\n",
    "\n",
    "def atom_key(atom: Atom):\n",
    "    \"\"\"\n",
    "    Create the categorical 'atom type' key similar to the one\n",
    "    used in the PyG ZINC pickles: element + formal charge +\n",
    "    aromatic flag + #implicit Hs.\n",
    "\n",
    "    -> Its not fully aligned with ZINC yet since it generates 45 categories, where ZINC250 has 28 distinct atom types\n",
    "    \"\"\"\n",
    "    return {\n",
    "            \"symbol\": atom.GetSymbol(),\n",
    "            \"degree\": atom.GetDegree(),\n",
    "            \"valence\": atom.GetValence(ValenceType.EXPLICIT),\n",
    "            \"charge\": atom.GetFormalCharge(),\n",
    "            \"num_hydrogens\": atom.GetTotalNumHs(),\n",
    "            \"is_aromatic\": atom.GetIsAromatic(),\n",
    "            \"is_part_of_ring\": atom.IsInRing(),\n",
    "    }"
   ],
   "id": "5921484692d79531",
   "outputs": [],
   "execution_count": 3
  },
  {
   "metadata": {
    "ExecuteTime": {
     "end_time": "2025-08-03T07:45:04.842952Z",
     "start_time": "2025-08-03T07:45:04.838751Z"
    }
   },
   "cell_type": "code",
   "source": [
    "def mol_to_data(mol: Chem.rdchem.Mol, atom2idx: dict[str, int] = atom_to_idx) -> Data:\n",
    "    x = [\n",
    "        [\n",
    "            float(atom2idx[a.GetSymbol()]), # 9 Categories\n",
    "            float(a.GetDegree()), # 5 Categories\n",
    "            float(a.GetFormalCharge()), # 3 Categories\n",
    "            float(a.GetTotalNumHs()), # 4 Categories\n",
    "        ]\n",
    "        for a in mol.GetAtoms()\n",
    "    ]\n",
    "    ei_src, ei_dst = [], []\n",
    "    for b in mol.GetBonds():\n",
    "        i, j = b.GetBeginAtomIdx(), b.GetEndAtomIdx()\n",
    "        ei_src += [i, j]\n",
    "        ei_dst += [j, i]\n",
    "    return Data(\n",
    "        x=torch.tensor(x, dtype=torch.float32),\n",
    "        edge_index=torch.tensor([ei_src, ei_dst], dtype=torch.long),\n",
    "        smiles=Chem.MolToSmiles(mol),\n",
    "    )"
   ],
   "id": "d56be7895b6618b5",
   "outputs": [],
   "execution_count": 29
  },
  {
   "metadata": {
    "ExecuteTime": {
     "end_time": "2025-08-03T07:45:05.251206Z",
     "start_time": "2025-08-03T07:45:05.245144Z"
    }
   },
   "cell_type": "code",
   "source": [
    "## Debugging\n",
    "debug_smiles = list(iter_smiles(smiles_dir / \"debug_smile.txt\"))\n",
    "debug_mols = [Chem.MolFromSmiles(s) for s in debug_smiles]\n",
    "debug_set = [mol_to_data(m, atom_to_idx) for m in debug_mols]\n",
    "data = debug_set[0]\n",
    "print(data)"
   ],
   "id": "e3b3e26fd160f3d",
   "outputs": [
    {
     "name": "stdout",
     "output_type": "stream",
     "text": [
      "Data(x=[32, 4], edge_index=[2, 68], smiles='C/C=C(\\C)[C@@H]1C=C[C@@H]2C[C@H](C)C[C@H](C)[C@@H]2[C@@H]1C(=O)C1=C([O-])[C@H](C[C@](C)(O)C(=O)[O-])NC1=O')\n"
     ]
    }
   ],
   "execution_count": 30
  },
  {
   "metadata": {
    "ExecuteTime": {
     "end_time": "2025-08-03T07:48:13.896133Z",
     "start_time": "2025-08-03T07:48:13.890192Z"
    }
   },
   "cell_type": "code",
   "source": [
    "from typing import Optional, Callable\n",
    "from torch.serialization import clear_safe_globals, add_safe_globals\n",
    "from torch_geometric.data import InMemoryDataset\n",
    "clear_safe_globals()\n",
    "class ZincSmiles(InMemoryDataset):\n",
    "    \"\"\"\n",
    "    A lightweight `InMemoryDataset` wrapping lists of SMILES strings stored in\n",
    "    plain-text files (one per line).\n",
    "\n",
    "    Parameters\n",
    "    ----------\n",
    "    root : str | Path\n",
    "        Root directory that contains ``raw/`` and ``processed/`` sub-dirs.\n",
    "    split : {'train', 'valid', 'test'}\n",
    "        Which split file to load (``<split>_smile.txt`` is expected in ``root/raw``).\n",
    "    transform, pre_transform, pre_filter : callable | None\n",
    "        See PyG `Dataset` API – they are executed on-the-fly (``transform``) or once\n",
    "        at processing time (``pre_*``).\n",
    "    \"\"\"\n",
    "\n",
    "    def __init__(\n",
    "        self,\n",
    "        root: str | Path,\n",
    "        split: str = \"train\",\n",
    "        transform: Optional[Callable] = None,\n",
    "        pre_transform: Optional[Callable] = None,\n",
    "        pre_filter: Optional[Callable] = None,\n",
    "    ):\n",
    "        self.split = split.lower()\n",
    "        assert self.split in {\"train\", \"valid\", \"test\"}\n",
    "        super().__init__(root, transform, pre_transform, pre_filter)\n",
    "        self.data, self.slices = torch.load(self.processed_paths[0], weights_only=False)\n",
    "\n",
    "    # ── filenames -----------------------------------------------------------------\n",
    "    @property\n",
    "    def raw_file_names(self):        # → list[str]\n",
    "        return [f\"{self.split}_smile.txt\"]\n",
    "\n",
    "    @property\n",
    "    def processed_file_names(self):  # → list[str]\n",
    "        return [f\"data_{self.split}.pt\"]\n",
    "\n",
    "    # ── I/O stubs (no download, local files only) ---------------------------------\n",
    "    def download(self):  # noqa: D401  (nothing to download)\n",
    "        pass\n",
    "\n",
    "    # ── heavy lifting --------------------------------------------------------------\n",
    "    def process(self):\n",
    "        data_list: list[Data] = []\n",
    "        for s in iter_smiles(Path(self.raw_paths[0])):\n",
    "            mol = Chem.MolFromSmiles(s)\n",
    "            if mol is None:\n",
    "                continue  # skip unparsable strings\n",
    "            data = mol_to_data(mol)\n",
    "            if self.pre_filter is not None and not self.pre_filter(data):\n",
    "                continue\n",
    "            if self.pre_transform is not None:\n",
    "                data = self.pre_transform(data)\n",
    "            data_list.append(data)\n",
    "\n",
    "        data, slices = self.collate(data_list)\n",
    "        torch.save((data, slices), self.processed_paths[0])"
   ],
   "id": "9575f1a2e6a0e67c",
   "outputs": [],
   "execution_count": 37
  },
  {
   "metadata": {
    "ExecuteTime": {
     "end_time": "2025-08-03T07:48:14.634311Z",
     "start_time": "2025-08-03T07:48:14.616832Z"
    }
   },
   "cell_type": "code",
   "source": "ds = ZincSmiles(root=DATASET_PATH / \"ZincSmiles\", split=\"valid\")",
   "id": "a5691cc5c656de02",
   "outputs": [],
   "execution_count": 38
  },
  {
   "metadata": {},
   "cell_type": "code",
   "outputs": [],
   "execution_count": null,
   "source": "",
   "id": "5fd51644276d8af5"
  }
 ],
 "metadata": {
  "kernelspec": {
   "display_name": "Python 3",
   "language": "python",
   "name": "python3"
  },
  "language_info": {
   "codemirror_mode": {
    "name": "ipython",
    "version": 2
   },
   "file_extension": ".py",
   "mimetype": "text/x-python",
   "name": "python",
   "nbconvert_exporter": "python",
   "pygments_lexer": "ipython2",
   "version": "2.7.6"
  }
 },
 "nbformat": 4,
 "nbformat_minor": 5
}
