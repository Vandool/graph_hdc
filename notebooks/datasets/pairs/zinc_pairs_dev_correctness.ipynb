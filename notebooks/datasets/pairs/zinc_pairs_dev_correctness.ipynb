{
 "cells": [
  {
   "cell_type": "code",
   "id": "initial_id",
   "metadata": {
    "collapsed": true,
    "jupyter": {
     "is_executing": true
    },
    "ExecuteTime": {
     "start_time": "2025-09-10T20:44:42.048245Z"
    }
   },
   "source": [
    "from src.utils import visualisations\n",
    "from src.utils.utils import DataTransformer\n",
    "from torch_geometric.data import Data\n",
    "from src.datasets.zinc_smiles_generation import ZincSmiles\n",
    "from src.datasets.zinc_pairs_v2 import ZincPairsV2\n",
    "from src.encoding.decoder import is_induced_subgraph_by_features\n",
    "\n",
    "\n",
    "train_ds = ZincPairsV2(split=\"train\", base_dataset=ZincSmiles(split=\"train\"), dev=True)\n",
    "test_ds = ZincPairsV2(split=\"test\", base_dataset=ZincSmiles(split=\"train\"), dev=True)\n",
    "valid_ds = ZincPairsV2(split=\"valid\", base_dataset=ZincSmiles(split=\"train\"), dev=True)\n",
    "counter = 1\n",
    "for item in [*train_ds, *test_ds, *valid_ds]:\n",
    "    g1 = Data(x=item.x1, edge_index=item.edge_index1)\n",
    "    g2 = Data(x=item.x2, edge_index=item.edge_index2)\n",
    "    y = bool(item.y.item())\n",
    "\n",
    "    g1_x = DataTransformer.pyg_to_nx(g1)\n",
    "    g2_x = DataTransformer.pyg_to_nx(g2)\n",
    "    is_induced = is_induced_subgraph_by_features(g1_x, g2_x, node_keys=[\"feat\"])\n",
    "\n",
    "    if is_induced != y:\n",
    "        print(f\"[{counter}] WRONG\")\n",
    "        visualisations.draw_nx_with_atom_colorings(g1_x, label=f\"[{counter}]Actual: {is_induced}, Y: {y}\")\n",
    "        visualisations.draw_nx_with_atom_colorings(g2_x, label=f\"[{counter}]Actual: {is_induced}, Y: {y}\")\n",
    "    else:\n",
    "        print(f\"[{counter}] OK\")\n",
    "    counter += 1"
   ],
   "outputs": [],
   "execution_count": null
  },
  {
   "metadata": {},
   "cell_type": "code",
   "source": "",
   "id": "8f11342503c30d4e",
   "outputs": [],
   "execution_count": null
  }
 ],
 "metadata": {
  "kernelspec": {
   "display_name": "Python 3",
   "language": "python",
   "name": "python3"
  },
  "language_info": {
   "codemirror_mode": {
    "name": "ipython",
    "version": 2
   },
   "file_extension": ".py",
   "mimetype": "text/x-python",
   "name": "python",
   "nbconvert_exporter": "python",
   "pygments_lexer": "ipython2",
   "version": "2.7.6"
  }
 },
 "nbformat": 4,
 "nbformat_minor": 5
}
