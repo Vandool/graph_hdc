{
 "cells": [
  {
   "cell_type": "code",
   "id": "initial_id",
   "metadata": {
    "collapsed": true,
    "jupyter": {
     "is_executing": true
    }
   },
   "source": [
    "from torch_geometric.loader import DataLoader\n",
    "\n",
    "from src.datasets.zinc_pairs_v2 import ZincPairsV2\n",
    "from src.datasets.zinc_pairs import ZincPairs\n",
    "from src.datasets.zinc_smiles_generation import ZincSmiles\n",
    "\n",
    "valid_full = ZincPairsV2(split=\"valid\", base_dataset=ZincSmiles(split=\"valid\"), dev=True)\n",
    "loader = DataLoader(valid_full)\n",
    "\n",
    "for data in loader:\n",
    "    print(data)\n",
    "    break"
   ],
   "outputs": [],
   "execution_count": null
  },
  {
   "metadata": {},
   "cell_type": "code",
   "outputs": [],
   "execution_count": null,
   "source": "",
   "id": "4402b661db559ef1"
  }
 ],
 "metadata": {
  "kernelspec": {
   "display_name": "Python 3",
   "language": "python",
   "name": "python3"
  },
  "language_info": {
   "codemirror_mode": {
    "name": "ipython",
    "version": 2
   },
   "file_extension": ".py",
   "mimetype": "text/x-python",
   "name": "python",
   "nbconvert_exporter": "python",
   "pygments_lexer": "ipython2",
   "version": "2.7.6"
  }
 },
 "nbformat": 4,
 "nbformat_minor": 5
}
