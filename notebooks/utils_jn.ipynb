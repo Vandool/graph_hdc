{
 "cells": [
  {
   "metadata": {},
   "cell_type": "markdown",
   "source": "## tuple - idx mapping",
   "id": "f842fd753892b093"
  },
  {
   "metadata": {
    "ExecuteTime": {
     "end_time": "2025-05-25T13:37:50.238821Z",
     "start_time": "2025-05-25T13:37:50.219627Z"
    }
   },
   "cell_type": "code",
   "source": [
    "import itertools\n",
    "\n",
    "l = [2, 3, 4]\n",
    "c = []\n",
    "for i in l:\n",
    "    c.append(list(range(0, i)))\n",
    "print(c)\n",
    "z = list(itertools.product(*c))\n",
    "z2 = list(itertools.product(*c))\n",
    "print(z)\n",
    "d = dict(zip(z, list(range(0, itertools.product(*l)))))\n",
    "def get_tuple(i):\n",
    "    return z[i]\n",
    "\n",
    "def get_idx(t):\n",
    "    return d[t]\n"
   ],
   "id": "ea86bd289f90074c",
   "outputs": [
    {
     "name": "stdout",
     "output_type": "stream",
     "text": [
      "[[0, 1], [0, 1, 2], [0, 1, 2, 3]]\n",
      "[(0, 0, 0), (0, 0, 1), (0, 0, 2), (0, 0, 3), (0, 1, 0), (0, 1, 1), (0, 1, 2), (0, 1, 3), (0, 2, 0), (0, 2, 1), (0, 2, 2), (0, 2, 3), (1, 0, 0), (1, 0, 1), (1, 0, 2), (1, 0, 3), (1, 1, 0), (1, 1, 1), (1, 1, 2), (1, 1, 3), (1, 2, 0), (1, 2, 1), (1, 2, 2), (1, 2, 3)]\n"
     ]
    },
    {
     "ename": "TypeError",
     "evalue": "'int' object is not iterable",
     "output_type": "error",
     "traceback": [
      "\u001B[31m---------------------------------------------------------------------------\u001B[39m",
      "\u001B[31mTypeError\u001B[39m                                 Traceback (most recent call last)",
      "\u001B[36mCell\u001B[39m\u001B[36m \u001B[39m\u001B[32mIn[17]\u001B[39m\u001B[32m, line 10\u001B[39m\n\u001B[32m      8\u001B[39m z = \u001B[38;5;28mlist\u001B[39m(itertools.product(*c))\n\u001B[32m      9\u001B[39m \u001B[38;5;28mprint\u001B[39m(z)\n\u001B[32m---> \u001B[39m\u001B[32m10\u001B[39m d = \u001B[38;5;28mdict\u001B[39m(\u001B[38;5;28mzip\u001B[39m(z, \u001B[38;5;28mlist\u001B[39m(\u001B[38;5;28mrange\u001B[39m(\u001B[32m0\u001B[39m, \u001B[43mitertools\u001B[49m\u001B[43m.\u001B[49m\u001B[43mproduct\u001B[49m\u001B[43m(\u001B[49m\u001B[43m*\u001B[49m\u001B[43ml\u001B[49m\u001B[43m)\u001B[49m))))\n\u001B[32m     11\u001B[39m \u001B[38;5;28;01mdef\u001B[39;00m\u001B[38;5;250m \u001B[39m\u001B[34mget_tuple\u001B[39m(i):\n\u001B[32m     12\u001B[39m     \u001B[38;5;28;01mreturn\u001B[39;00m z[i]\n",
      "\u001B[31mTypeError\u001B[39m: 'int' object is not iterable"
     ]
    }
   ],
   "execution_count": 17
  },
  {
   "metadata": {
    "ExecuteTime": {
     "end_time": "2025-05-25T13:25:07.672265Z",
     "start_time": "2025-05-25T13:25:07.670435Z"
    }
   },
   "cell_type": "code",
   "source": [
    "a = get_tuple(2)\n",
    "print(a)\n",
    "\n",
    "b = get_idx((0, 0, 0))\n",
    "print(b)"
   ],
   "id": "a0f0e08fb21770a4",
   "outputs": [
    {
     "name": "stdout",
     "output_type": "stream",
     "text": [
      "(0, 0, 2)\n",
      "None\n"
     ]
    }
   ],
   "execution_count": 13
  },
  {
   "metadata": {
    "ExecuteTime": {
     "end_time": "2025-05-25T13:28:01.786307Z",
     "start_time": "2025-05-25T13:28:01.783056Z"
    }
   },
   "cell_type": "code",
   "source": [
    "import itertools\n",
    "from typing import List, Tuple, Dict\n",
    "\n",
    "def make_dict_indexers(sizes: List[int]):\n",
    "    \"\"\"\n",
    "    Return (tuple→idx dict, idx→tuple list) for all tuples in\n",
    "    range(N1)×…×range(Nn).\n",
    "    \"\"\"\n",
    "    # 1) Build the Cartesian product of ranges\n",
    "    grids = itertools.product(*(range(N) for N in sizes))  # lazy iterator  [oai_citation:0‡Python documentation](https://docs.python.org/3/library/itertools.html?utm_source=chatgpt.com)\n",
    "    tuples = list(grids)                                   # → list of length N1*…*Nn\n",
    "\n",
    "    # 2) Build lookups\n",
    "    tuple_to_idx: Dict[Tuple[int,...], int] = {\n",
    "        t: idx for idx, t in enumerate(tuples)\n",
    "    }\n",
    "    idx_to_tuple: List[Tuple[int,...]] = tuples\n",
    "\n",
    "    return tuple_to_idx, idx_to_tuple\n",
    "\n",
    "# Usage example:\n",
    "tuple_to_idx, idx_to_tuple = make_dict_indexers([2,3,4])\n",
    "assert tuple_to_idx[(1,2,3)] == idx_to_tuple.index((1,2,3))"
   ],
   "id": "1841094e408caeac",
   "outputs": [],
   "execution_count": 16
  }
 ],
 "metadata": {
  "kernelspec": {
   "display_name": "Python 3",
   "language": "python",
   "name": "python3"
  },
  "language_info": {
   "codemirror_mode": {
    "name": "ipython",
    "version": 2
   },
   "file_extension": ".py",
   "mimetype": "text/x-python",
   "name": "python",
   "nbconvert_exporter": "python",
   "pygments_lexer": "ipython2",
   "version": "2.7.6"
  }
 },
 "nbformat": 4,
 "nbformat_minor": 5
}
