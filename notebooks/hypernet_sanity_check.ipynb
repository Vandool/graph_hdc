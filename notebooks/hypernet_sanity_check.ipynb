{
 "cells": [
  {
   "cell_type": "code",
   "id": "initial_id",
   "metadata": {
    "collapsed": true,
    "ExecuteTime": {
     "end_time": "2025-10-26T12:29:53.396825Z",
     "start_time": "2025-10-26T12:29:49.672013Z"
    }
   },
   "source": [
    "import torch\n",
    "\n",
    "from src.encoding.configs_and_constants import SupportedDataset\n",
    "from src.encoding.graph_encoders import HyperNet, load_or_create_hypernet\n",
    "\n",
    "encoder1 = HyperNet.load(path=\"/home/akaveh/Projects/kit/graph_hdc/_models/hypernet_QM9SmilesHRR1600F64G1G3_HRR_dim1600_s42_depth3_ecb0-f64.pt\")\n",
    "\n",
    "encoder2 = HyperNet.load(path=\"/home/akaveh/Projects/kit/graph_hdc/_models/hypernet_QM9SmilesHRR1600F64G1G3_HRR_dim1600_s42_depth3_ecb0-f64_haic.pt\")\n",
    "\n",
    "assert torch.equal(encoder1.nodes_codebook, encoder2.nodes_codebook)"
   ],
   "outputs": [
    {
     "name": "stderr",
     "output_type": "stream",
     "text": [
      "/home/akaveh/Projects/kit/graph_hdc/.pixi/envs/local/lib/python3.11/site-packages/torch_geometric/typing.py:86: UserWarning: An issue occurred while importing 'torch-scatter'. Disabling its usage. Stacktrace: Could not load this library: /home/akaveh/Projects/kit/graph_hdc/.pixi/envs/local/lib/python3.11/site-packages/torch_scatter/_version_cuda.so\n",
      "  warnings.warn(f\"An issue occurred while importing 'torch-scatter'. \"\n"
     ]
    }
   ],
   "execution_count": 1
  },
  {
   "metadata": {
    "ExecuteTime": {
     "end_time": "2025-10-26T12:29:53.421556Z",
     "start_time": "2025-10-26T12:29:53.401164Z"
    }
   },
   "cell_type": "code",
   "source": [
    "from src.encoding.configs_and_constants import Features\n",
    "\n",
    "hypernet = load_or_create_hypernet(cfg=SupportedDataset.QM9_SMILES_HRR_1600_F64_G1G3.default_cfg)\n",
    "\n",
    "print(hypernet.device)\n",
    "print(hypernet.dtype)\n",
    "print(hypernet.nodes_codebook.device)\n",
    "print(hypernet.nodes_codebook.dtype)\n",
    "print(hypernet.node_encoder_map[Features.ATOM_TYPE][0].codebook.device)\n",
    "print(hypernet.node_encoder_map[Features.ATOM_TYPE][0].codebook.dtype)\n",
    "\n",
    "hypernet.to(device=torch.device(\"cuda\"), dtype=torch.float32)\n",
    "print(\"AFTER\")\n",
    "print(hypernet.device)\n",
    "print(hypernet.dtype)\n",
    "print(hypernet.nodes_codebook.device)\n",
    "print(hypernet.nodes_codebook.dtype)\n",
    "print(hypernet.node_encoder_map[Features.ATOM_TYPE][0].codebook.device)\n",
    "print(hypernet.node_encoder_map[Features.ATOM_TYPE][0].codebook.dtype)"
   ],
   "id": "cdd6dc5b0e6b81ae",
   "outputs": [
    {
     "name": "stdout",
     "output_type": "stream",
     "text": [
      "Loading existing HyperNet from /home/akaveh/Projects/kit/graph_hdc/_models/hypernet_QM9SmilesHRR1600F64G1G3_HRR_dim1600_s42_depth3_ecb0-f64.pt\n",
      "cpu\n",
      "torch.float32\n",
      "cuda:0\n",
      "torch.float64\n",
      "cuda:0\n",
      "torch.float64\n",
      "AFTER\n",
      "cuda:0\n",
      "torch.float32\n",
      "cuda:0\n",
      "torch.float32\n",
      "cuda:0\n",
      "torch.float32\n"
     ]
    }
   ],
   "execution_count": 2
  }
 ],
 "metadata": {
  "kernelspec": {
   "display_name": "Python 3",
   "language": "python",
   "name": "python3"
  },
  "language_info": {
   "codemirror_mode": {
    "name": "ipython",
    "version": 2
   },
   "file_extension": ".py",
   "mimetype": "text/x-python",
   "name": "python",
   "nbconvert_exporter": "python",
   "pygments_lexer": "ipython2",
   "version": "2.7.6"
  }
 },
 "nbformat": 4,
 "nbformat_minor": 5
}
