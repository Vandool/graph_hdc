{
 "cells": [
  {
   "cell_type": "code",
   "id": "initial_id",
   "metadata": {
    "collapsed": true,
    "ExecuteTime": {
     "end_time": "2025-10-20T17:43:58.702365Z",
     "start_time": "2025-10-20T17:43:57.871137Z"
    }
   },
   "source": [
    "import torch\n",
    "\n",
    "from src.encoding.graph_encoders import HyperNet\n",
    "\n",
    "encoder1 = HyperNet.load(path=\"/home/akaveh/Projects/kit/graph_hdc/_models/hypernet_QM9SmilesHRR1600F64G1G3_HRR_dim1600_s42_depth3_ecb0-f64.pt\")\n",
    "\n",
    "encoder2 = HyperNet.load(path=\"/home/akaveh/Projects/kit/graph_hdc/_models/hypernet_QM9SmilesHRR1600F64G1G3_HRR_dim1600_s42_depth3_ecb0-f64_haic.pt\")\n",
    "\n",
    "assert torch.equal(encoder1.nodes_codebook, encoder2.nodes_codebook)"
   ],
   "outputs": [],
   "execution_count": 2
  }
 ],
 "metadata": {
  "kernelspec": {
   "display_name": "Python 3",
   "language": "python",
   "name": "python3"
  },
  "language_info": {
   "codemirror_mode": {
    "name": "ipython",
    "version": 2
   },
   "file_extension": ".py",
   "mimetype": "text/x-python",
   "name": "python",
   "nbconvert_exporter": "python",
   "pygments_lexer": "ipython2",
   "version": "2.7.6"
  }
 },
 "nbformat": 4,
 "nbformat_minor": 5
}
