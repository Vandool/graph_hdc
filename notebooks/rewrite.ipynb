{
 "cells": [
  {
   "metadata": {},
   "cell_type": "markdown",
   "source": "# Simple GraphHD Encoder/Decoder",
   "id": "796afb9c79d189e"
  },
  {
   "cell_type": "code",
   "id": "initial_id",
   "metadata": {
    "collapsed": true,
    "ExecuteTime": {
     "end_time": "2025-04-25T15:25:15.108734Z",
     "start_time": "2025-04-25T15:25:02.210652Z"
    }
   },
   "source": [
    "import torch\n",
    "import torchhd\n",
    "from torch_geometric.data import Data\n",
    "\n",
    "class GraphHDEncoder:\n",
    "    def __init__(self, dim=10000, levels=256):\n",
    "        self.dim = dim\n",
    "        self.levels = levels\n",
    "        self.level_space = torchhd.level(levels, dim)  # for continuous features\n",
    "\n",
    "    def encode(self, data: Data):\n",
    "        num_nodes = data.num_nodes\n",
    "\n",
    "        # Random hypervectors for each node (symbolic identity)\n",
    "        self.node_ids = torchhd.random(num_nodes, self.dim)\n",
    "\n",
    "        # Encode node features\n",
    "        # Assumes features in [0, 1] and continuous\n",
    "        node_values = (data.x * (self.levels - 1)).long()  # shape: (num_nodes, num_features)\n",
    "        feature_vectors = self.level_space[node_values]     # shape: (num_nodes, num_features, dim)\n",
    "        feature_encodings = feature_vectors.sum(dim=1)      # sum over features => (num_nodes, dim)\n",
    "\n",
    "        # Bind each node ID with its encoded features\n",
    "        node_encodings = torchhd.bind(self.node_ids, feature_encodings)\n",
    "\n",
    "        # Sum to get graph hypervector\n",
    "        graph_hv = node_encodings.sum(dim=0)  # (dim,)\n",
    "\n",
    "        # Optionally include edge info (purely symbolic)\n",
    "        if hasattr(data, 'edge_index'):\n",
    "            src, dst = data.edge_index\n",
    "            edge_encodings = torchhd.bind(self.node_ids[src], self.node_ids[dst])\n",
    "            graph_hv += edge_encodings.sum(dim=0)\n",
    "\n",
    "        return graph_hv"
   ],
   "outputs": [],
   "execution_count": 1
  },
  {
   "metadata": {
    "ExecuteTime": {
     "end_time": "2025-04-25T15:26:59.780084Z",
     "start_time": "2025-04-25T15:26:59.777344Z"
    }
   },
   "cell_type": "code",
   "source": [
    "class GraphHDDecoder:\n",
    "    def __init__(self, dim=10000, levels=256):\n",
    "        self.dim = dim\n",
    "        self.levels = levels\n",
    "        self.level_space = torchhd.level(levels, dim)  # must match encoder\n",
    "\n",
    "    def decode_node_features(self, graph_hv: torch.Tensor, node_ids: torch.Tensor):\n",
    "        # Unbind each node ID from the graph hypervector\n",
    "        estimates = torchhd.bind(graph_hv.unsqueeze(0), torchhd.inverse(node_ids))  # (num_nodes, dim)\n",
    "\n",
    "        decoded_values = []\n",
    "        for est in estimates:\n",
    "            sim = torchhd.cosine_similarity(est.unsqueeze(0), self.level_space)\n",
    "            decoded_val = sim.argmax().item() / (self.levels - 1)\n",
    "            decoded_values.append(decoded_val)\n",
    "\n",
    "        return torch.tensor(decoded_values).unsqueeze(1)  # shape: (num_nodes, 1)\n"
   ],
   "id": "9b26188c5c0a2307",
   "outputs": [],
   "execution_count": 6
  },
  {
   "metadata": {
    "ExecuteTime": {
     "end_time": "2025-04-25T15:27:01.011403Z",
     "start_time": "2025-04-25T15:27:00.978951Z"
    }
   },
   "cell_type": "code",
   "source": [
    "    # Toy example\n",
    "x = torch.tensor([[0.1], [0.5], [0.9]])  # node features normalized to [0, 1]\n",
    "edge_index = torch.tensor([[0, 1], [1, 2]])\n",
    "data = Data(x=x, edge_index=edge_index.t())\n",
    "\n",
    "encoder = GraphHDEncoder(dim=10000)\n",
    "decoder = GraphHDDecoder(dim=10000)\n",
    "\n",
    "graph_hv = encoder.encode(data)\n",
    "decoded = decoder.decode_node_features(graph_hv, encoder.node_ids)\n",
    "\n",
    "print(\"Original x:\")\n",
    "print(x)\n",
    "print(\"Decoded x:\")\n",
    "print(decoded)  # should be close to original x"
   ],
   "id": "3419ed3141661fad",
   "outputs": [
    {
     "name": "stdout",
     "output_type": "stream",
     "text": [
      "Original x:\n",
      "tensor([[0.1000],\n",
      "        [0.5000],\n",
      "        [0.9000]])\n",
      "Decoded x:\n",
      "tensor([[0.9569],\n",
      "        [0.3412],\n",
      "        [0.1373]])\n"
     ]
    }
   ],
   "execution_count": 7
  }
 ],
 "metadata": {
  "kernelspec": {
   "display_name": "Python 3",
   "language": "python",
   "name": "python3"
  },
  "language_info": {
   "codemirror_mode": {
    "name": "ipython",
    "version": 2
   },
   "file_extension": ".py",
   "mimetype": "text/x-python",
   "name": "python",
   "nbconvert_exporter": "python",
   "pygments_lexer": "ipython2",
   "version": "2.7.6"
  }
 },
 "nbformat": 4,
 "nbformat_minor": 5
}
